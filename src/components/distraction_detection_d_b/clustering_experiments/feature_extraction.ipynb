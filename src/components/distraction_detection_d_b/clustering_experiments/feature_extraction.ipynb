{
 "cells": [
  {
   "cell_type": "code",
   "execution_count": 1,
   "metadata": {},
   "outputs": [
    {
     "name": "stdout",
     "output_type": "stream",
     "text": [
      "GPU device: Tesla V100-SXM2-32GB\n"
     ]
    }
   ],
   "source": [
    "import torch\n",
    "\n",
    "if torch.cuda.is_available():\n",
    "    device = torch.device('cuda')\n",
    "    print('GPU device:',torch.cuda.get_device_name(0))\n",
    "else:\n",
    "    device = torch.device('cpu')\n",
    "    print('No GPU avaialable, Using CPU')\n",
    "\n",
    "torch.cuda.set_device(1)"
   ]
  },
  {
   "cell_type": "code",
   "execution_count": 2,
   "metadata": {},
   "outputs": [],
   "source": [
    "# Set seeds\n",
    "def set_seeds(seed: int=42):\n",
    "    \"\"\"Sets random sets for torch operations.\n",
    "\n",
    "    Args:\n",
    "        seed (int, optional): Random seed to set. Defaults to 42.\n",
    "    \"\"\"\n",
    "    # Set the seed for general torch operations\n",
    "    torch.manual_seed(seed)\n",
    "    # Set the seed for CUDA torch operations (ones that happen on the GPU)\n",
    "    torch.cuda.manual_seed(seed)\n",
    "\n",
    "set_seeds(42)"
   ]
  },
  {
   "cell_type": "code",
   "execution_count": 3,
   "metadata": {},
   "outputs": [],
   "source": [
    "import torch\n",
    "import timm\n",
    "from pathlib import Path\n",
    "from PIL import Image\n",
    "# Load the pretrained ViT model\n",
    "model = timm.create_model(\n",
    "    'vit_huge_patch14_224.orig_in21k',\n",
    "    pretrained=True,\n",
    "    num_classes=0,  # remove classifier nn.Linear\n",
    ")\n",
    "model = model.eval()\n",
    "model = model.to(device)\n",
    "# Create data transforms\n",
    "data_config = timm.data.resolve_model_data_config(model)\n",
    "data_transforms = timm.data.create_transform(**data_config, is_training=False)"
   ]
  },
  {
   "cell_type": "code",
   "execution_count": 4,
   "metadata": {},
   "outputs": [],
   "source": [
    "import os\n",
    "from torchvision.datasets import DatasetFolder\n",
    "from torchvision import transforms\n",
    "from torch.utils.data import DataLoader\n",
    "from PIL import Image\n",
    "\n",
    "class CustomImageFolder(DatasetFolder):\n",
    "    def __init__(self, root, transform=None, target_transform=None):\n",
    "        super(CustomImageFolder, self).__init__(root, loader=self.pil_loader, extensions='png', transform=transform, target_transform=target_transform)\n",
    "    \n",
    "    def pil_loader(self, path: str) -> Image.Image:\n",
    "        # Open the path as file to avoid ResourceWarning (https://github.com/python-pillow/Pillow/issues/835)\n",
    "        with open(path, 'rb') as f:\n",
    "            img = Image.open(f)\n",
    "            return img.convert('RGB')\n",
    "    \n",
    "    def __getitem__(self, index):\n",
    "        path, target = self.samples[index]\n",
    "        sample = self.loader(path)\n",
    "        if self.transform is not None:\n",
    "            sample = self.transform(sample)\n",
    "        if self.target_transform is not None:\n",
    "            target = self.target_transform(target)\n",
    "        return sample, target, path  # Return image, label, and image path"
   ]
  },
  {
   "cell_type": "code",
   "execution_count": 5,
   "metadata": {},
   "outputs": [
    {
     "data": {
      "text/plain": [
       "254"
      ]
     },
     "execution_count": 5,
     "metadata": {},
     "output_type": "execute_result"
    }
   ],
   "source": [
    "# Create a CustomImageDataset instance\n",
    "dataset = CustomImageFolder(root=\"/net/polaris/storage/deeplearning/sur_data/binary_rgb_daa/split_0/train\", \n",
    "                             transform=data_transforms\n",
    "                             )\n",
    "\n",
    "# Create a DataLoader with custom collate_fn\n",
    "dataloader = DataLoader(dataset, \n",
    "                        batch_size=1024, \n",
    "                        shuffle=True,\n",
    "                        num_workers=10,\n",
    "                        drop_last=False,\n",
    "                        )\n",
    "\n",
    "# Calculate the total number of batches\n",
    "total_batches = len(dataloader)\n",
    "total_batches"
   ]
  },
  {
   "cell_type": "code",
   "execution_count": 8,
   "metadata": {},
   "outputs": [],
   "source": [
    "images, labels, paths = next(iter(dataloader))"
   ]
  },
  {
   "cell_type": "code",
   "execution_count": 14,
   "metadata": {},
   "outputs": [
    {
     "data": {
      "text/plain": [
       "'/net/polaris/storage/deeplearning/sur_data/binary_rgb_daa/split_0/train/distracted/img_033911.png'"
      ]
     },
     "execution_count": 14,
     "metadata": {},
     "output_type": "execute_result"
    }
   ],
   "source": [
    "# images[1]\n",
    "paths[1]"
   ]
  },
  {
   "cell_type": "code",
   "execution_count": 6,
   "metadata": {},
   "outputs": [
    {
     "name": "stderr",
     "output_type": "stream",
     "text": [
      "  0%|          | 0/254 [00:00<?, ?it/s]/home/sur06423/miniconda3/envs/vi_trans/lib/python3.10/site-packages/torch/nn/modules/conv.py:456: UserWarning: Applied workaround for CuDNN issue, install nvrtc.so (Triggered internally at /opt/conda/conda-bld/pytorch_1704987280714/work/aten/src/ATen/native/cudnn/Conv_v8.cpp:80.)\n",
      "  return F.conv2d(input, weight, bias, self.stride,\n",
      "100%|██████████| 254/254 [2:01:53<00:00, 28.79s/it]  \n"
     ]
    }
   ],
   "source": [
    "from tqdm import tqdm\n",
    "import pickle\n",
    "\n",
    "# Initialize a list to accumulate features\n",
    "all_features = []\n",
    "all_gt_labels = []\n",
    "img_paths_batchwise = []\n",
    "\n",
    "with torch.no_grad():\n",
    "    for batch in tqdm(dataloader, total=len(dataloader)):\n",
    "        images, targets, img_paths = batch\n",
    "        images = images.to(device)\n",
    "        features = model(images)\n",
    "        features = features.to('cpu')\n",
    "        all_features.append(features)\n",
    "        all_gt_labels.append(targets)\n",
    "        img_paths_batchwise.append(img_paths)\n",
    "\n",
    "# Collect features\n",
    "all_features = torch.cat(all_features, dim=0)\n",
    "all_gt_labels = torch.cat(all_gt_labels, dim=0)\n",
    "\n",
    "# Note: Paths are stored batch wise\n",
    "\n",
    "# Save features_all as a list in pickle format\n",
    "with open('/home/sur06423/hiwi/vit_exp/vision_tranformer_baseline/src/components/distraction_detection_d_b/clustering_experiments/features_split_0_kinect_rgb/all_split_0_rgb_features.pkl', 'wb') as file:\n",
    "    pickle.dump(all_features, file)\n",
    "\n",
    "with open('/home/sur06423/hiwi/vit_exp/vision_tranformer_baseline/src/components/distraction_detection_d_b/clustering_experiments/features_split_0_kinect_rgb/all_split_0_rgb_labels.pkl', 'wb') as file:\n",
    "    pickle.dump(all_gt_labels, file)\n",
    "\n",
    "all_img_paths = img_paths_batchwise\n",
    "with open('/home/sur06423/hiwi/vit_exp/vision_tranformer_baseline/src/components/distraction_detection_d_b/clustering_experiments/features_split_0_kinect_rgb/all_split_0_rgb_imagepaths.pkl', 'wb') as file:\n",
    "    pickle.dump(all_img_paths, file)"
   ]
  },
  {
   "cell_type": "code",
   "execution_count": null,
   "metadata": {},
   "outputs": [],
   "source": []
  }
 ],
 "metadata": {
  "kernelspec": {
   "display_name": "vi_trans",
   "language": "python",
   "name": "python3"
  },
  "language_info": {
   "codemirror_mode": {
    "name": "ipython",
    "version": 3
   },
   "file_extension": ".py",
   "mimetype": "text/x-python",
   "name": "python",
   "nbconvert_exporter": "python",
   "pygments_lexer": "ipython3",
   "version": "3.10.12"
  }
 },
 "nbformat": 4,
 "nbformat_minor": 2
}
