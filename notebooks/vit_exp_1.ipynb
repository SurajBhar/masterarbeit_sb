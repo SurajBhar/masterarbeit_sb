{
 "cells": [
  {
   "cell_type": "code",
   "execution_count": 1,
   "metadata": {},
   "outputs": [
    {
     "name": "stdout",
     "output_type": "stream",
     "text": [
      "Tue Aug 29 00:51:25 2023       \n",
      "+-----------------------------------------------------------------------------+\n",
      "| NVIDIA-SMI 525.105.17   Driver Version: 525.105.17   CUDA Version: 12.0     |\n",
      "|-------------------------------+----------------------+----------------------+\n",
      "| GPU  Name        Persistence-M| Bus-Id        Disp.A | Volatile Uncorr. ECC |\n",
      "| Fan  Temp  Perf  Pwr:Usage/Cap|         Memory-Usage | GPU-Util  Compute M. |\n",
      "|                               |                      |               MIG M. |\n",
      "|===============================+======================+======================|\n",
      "|   0  Tesla V100-SXM2...  Off  | 00000000:06:00.0 Off |                    0 |\n",
      "| N/A   58C    P0   297W / 300W |   1833MiB / 32768MiB |     42%      Default |\n",
      "|                               |                      |                  N/A |\n",
      "+-------------------------------+----------------------+----------------------+\n",
      "|   1  Tesla V100-SXM2...  Off  | 00000000:07:00.0 Off |                    0 |\n",
      "| N/A   43C    P0    58W / 300W |  17287MiB / 32768MiB |      5%      Default |\n",
      "|                               |                      |                  N/A |\n",
      "+-------------------------------+----------------------+----------------------+\n",
      "|   2  Tesla V100-SXM2...  Off  | 00000000:0A:00.0 Off |                    0 |\n",
      "| N/A   42C    P0    60W / 300W |    999MiB / 32768MiB |      0%      Default |\n",
      "|                               |                      |                  N/A |\n",
      "+-------------------------------+----------------------+----------------------+\n",
      "|   3  Tesla V100-SXM2...  Off  | 00000000:0B:00.0 Off |                    0 |\n",
      "| N/A   58C    P0   286W / 300W |  30235MiB / 32768MiB |    100%      Default |\n",
      "|                               |                      |                  N/A |\n",
      "+-------------------------------+----------------------+----------------------+\n",
      "|   4  Tesla V100-SXM2...  Off  | 00000000:85:00.0 Off |                    0 |\n",
      "| N/A   32C    P0    41W / 300W |      3MiB / 32768MiB |      0%      Default |\n",
      "|                               |                      |                  N/A |\n",
      "+-------------------------------+----------------------+----------------------+\n",
      "|   5  Tesla V100-SXM2...  Off  | 00000000:86:00.0 Off |                    0 |\n",
      "| N/A   33C    P0    41W / 300W |      3MiB / 32768MiB |      0%      Default |\n",
      "|                               |                      |                  N/A |\n",
      "+-------------------------------+----------------------+----------------------+\n",
      "|   6  Tesla V100-SXM2...  Off  | 00000000:89:00.0 Off |                    0 |\n",
      "| N/A   36C    P0    57W / 300W |  12991MiB / 32768MiB |      0%      Default |\n",
      "|                               |                      |                  N/A |\n",
      "+-------------------------------+----------------------+----------------------+\n",
      "|   7  Tesla V100-SXM2...  Off  | 00000000:8A:00.0 Off |                    0 |\n",
      "| N/A   32C    P0    43W / 300W |      5MiB / 32768MiB |      0%      Default |\n",
      "|                               |                      |                  N/A |\n",
      "+-------------------------------+----------------------+----------------------+\n",
      "                                                                               \n",
      "+-----------------------------------------------------------------------------+\n",
      "| Processes:                                                                  |\n",
      "|  GPU   GI   CI        PID   Type   Process name                  GPU Memory |\n",
      "|        ID   ID                                                   Usage      |\n",
      "|=============================================================================|\n",
      "|    0   N/A  N/A    467376      C   python                           1830MiB |\n",
      "|    1   N/A  N/A    592284      C   python                           1144MiB |\n",
      "|    3   N/A  N/A   3587562      C   python                          30232MiB |\n",
      "|    6   N/A  N/A   1794252      C   python3                         12984MiB |\n",
      "+-----------------------------------------------------------------------------+\n"
     ]
    }
   ],
   "source": [
    "!nvidia-smi"
   ]
  },
  {
   "cell_type": "code",
   "execution_count": 2,
   "metadata": {},
   "outputs": [
    {
     "name": "stderr",
     "output_type": "stream",
     "text": [
      "/home/sur06423/miniconda3/envs/vi_trans/lib/python3.10/site-packages/tqdm/auto.py:21: TqdmWarning: IProgress not found. Please update jupyter and ipywidgets. See https://ipywidgets.readthedocs.io/en/stable/user_install.html\n",
      "  from .autonotebook import tqdm as notebook_tqdm\n"
     ]
    }
   ],
   "source": [
    "import torch\n",
    "if torch.cuda.is_available():\n",
    "    device = torch.device('cuda')\n",
    "    torch.cuda.set_device(4)\n"
   ]
  },
  {
   "cell_type": "code",
   "execution_count": 4,
   "metadata": {},
   "outputs": [
    {
     "name": "stdout",
     "output_type": "stream",
     "text": [
      "GPU device: Tesla V100-SXM2-32GB\n"
     ]
    }
   ],
   "source": [
    "print('GPU device:',torch.cuda.get_device_name())"
   ]
  },
  {
   "cell_type": "code",
   "execution_count": 2,
   "metadata": {},
   "outputs": [
    {
     "name": "stderr",
     "output_type": "stream",
     "text": [
      "/home/sur06423/miniconda3/envs/vi_trans/lib/python3.10/site-packages/tqdm/auto.py:21: TqdmWarning: IProgress not found. Please update jupyter and ipywidgets. See https://ipywidgets.readthedocs.io/en/stable/user_install.html\n",
      "  from .autonotebook import tqdm as notebook_tqdm\n"
     ]
    },
    {
     "name": "stdout",
     "output_type": "stream",
     "text": [
      "GPU device: Tesla V100-SXM2-32GB\n"
     ]
    }
   ],
   "source": [
    "import torch\n",
    "\n",
    "\n",
    "if torch.cuda.is_available():\n",
    "    device = torch.device('cuda')\n",
    "    print('GPU device:',torch.cuda.get_device_name(0))\n",
    "else:\n",
    "    device = torch.device('cpu')\n",
    "    print('No GPU avaialable, Using CPU')\n",
    "\n",
    "torch.cuda.set_device(0)"
   ]
  },
  {
   "cell_type": "code",
   "execution_count": 3,
   "metadata": {},
   "outputs": [
    {
     "name": "stderr",
     "output_type": "stream",
     "text": [
      "/home/sur06423/miniconda3/envs/vi_trans/lib/python3.10/site-packages/torchvision/io/image.py:13: UserWarning: Failed to load image Python extension: '/home/sur06423/miniconda3/envs/vi_trans/lib/python3.10/site-packages/torchvision/image.so: undefined symbol: _ZNK3c107SymBool10guard_boolEPKcl'If you don't plan on using image functionality from `torchvision.io`, you can ignore this warning. Otherwise, there might be something wrong with your environment. Did you have `libjpeg` or `libpng` installed before building `torchvision` from source?\n",
      "  warn(\n"
     ]
    }
   ],
   "source": [
    "from torch import nn\n",
    "import torchvision\n",
    "from torchinfo import summary\n",
    "import sys\n",
    "sys.path.append('/home/sur06423/hiwi/vit_exp/vision_tranformer_baseline')\n"
   ]
  },
  {
   "cell_type": "code",
   "execution_count": 4,
   "metadata": {},
   "outputs": [],
   "source": [
    "pretrained_vit_weights = torchvision.models.ViT_B_16_Weights.DEFAULT # DEFAULT means the best available weights\n",
    "pretrained_vit = torchvision.models.vit_b_16(weights = pretrained_vit_weights).to(device)"
   ]
  },
  {
   "cell_type": "code",
   "execution_count": 5,
   "metadata": {},
   "outputs": [
    {
     "data": {
      "text/plain": [
       "============================================================================================================================================\n",
       "Layer (type (var_name))                                      Input Shape          Output Shape         Param #              Trainable\n",
       "============================================================================================================================================\n",
       "VisionTransformer (VisionTransformer)                        [32, 3, 224, 224]    [32, 1000]           768                  True\n",
       "├─Conv2d (conv_proj)                                         [32, 3, 224, 224]    [32, 768, 14, 14]    590,592              True\n",
       "├─Encoder (encoder)                                          [32, 197, 768]       [32, 197, 768]       151,296              True\n",
       "│    └─Dropout (dropout)                                     [32, 197, 768]       [32, 197, 768]       --                   --\n",
       "│    └─Sequential (layers)                                   [32, 197, 768]       [32, 197, 768]       --                   True\n",
       "│    │    └─EncoderBlock (encoder_layer_0)                   [32, 197, 768]       [32, 197, 768]       7,087,872            True\n",
       "│    │    └─EncoderBlock (encoder_layer_1)                   [32, 197, 768]       [32, 197, 768]       7,087,872            True\n",
       "│    │    └─EncoderBlock (encoder_layer_2)                   [32, 197, 768]       [32, 197, 768]       7,087,872            True\n",
       "│    │    └─EncoderBlock (encoder_layer_3)                   [32, 197, 768]       [32, 197, 768]       7,087,872            True\n",
       "│    │    └─EncoderBlock (encoder_layer_4)                   [32, 197, 768]       [32, 197, 768]       7,087,872            True\n",
       "│    │    └─EncoderBlock (encoder_layer_5)                   [32, 197, 768]       [32, 197, 768]       7,087,872            True\n",
       "│    │    └─EncoderBlock (encoder_layer_6)                   [32, 197, 768]       [32, 197, 768]       7,087,872            True\n",
       "│    │    └─EncoderBlock (encoder_layer_7)                   [32, 197, 768]       [32, 197, 768]       7,087,872            True\n",
       "│    │    └─EncoderBlock (encoder_layer_8)                   [32, 197, 768]       [32, 197, 768]       7,087,872            True\n",
       "│    │    └─EncoderBlock (encoder_layer_9)                   [32, 197, 768]       [32, 197, 768]       7,087,872            True\n",
       "│    │    └─EncoderBlock (encoder_layer_10)                  [32, 197, 768]       [32, 197, 768]       7,087,872            True\n",
       "│    │    └─EncoderBlock (encoder_layer_11)                  [32, 197, 768]       [32, 197, 768]       7,087,872            True\n",
       "│    └─LayerNorm (ln)                                        [32, 197, 768]       [32, 197, 768]       1,536                True\n",
       "├─Sequential (heads)                                         [32, 768]            [32, 1000]           --                   True\n",
       "│    └─Linear (head)                                         [32, 768]            [32, 1000]           769,000              True\n",
       "============================================================================================================================================\n",
       "Total params: 86,567,656\n",
       "Trainable params: 86,567,656\n",
       "Non-trainable params: 0\n",
       "Total mult-adds (G): 5.54\n",
       "============================================================================================================================================\n",
       "Input size (MB): 19.27\n",
       "Forward/backward pass size (MB): 3330.99\n",
       "Params size (MB): 232.27\n",
       "Estimated Total Size (MB): 3582.53\n",
       "============================================================================================================================================"
      ]
     },
     "execution_count": 5,
     "metadata": {},
     "output_type": "execute_result"
    }
   ],
   "source": [
    "# Print a summary of our custom ViT model using torchinfo (uncomment for actual output)\n",
    "summary(model=pretrained_vit, \n",
    "         input_size=(32, 3, 224, 224), # (batch_size, color_channels, height, width)\n",
    "         #col_names=[\"input_size\"], # uncomment for smaller output\n",
    "         col_names=[\"input_size\", \"output_size\", \"num_params\", \"trainable\"],\n",
    "         col_width=20,\n",
    "         row_settings=[\"var_names\"]\n",
    ")"
   ]
  },
  {
   "cell_type": "code",
   "execution_count": 6,
   "metadata": {},
   "outputs": [],
   "source": [
    "for parameter in pretrained_vit.parameters():\n",
    "    parameter.requires_grad = False"
   ]
  },
  {
   "cell_type": "code",
   "execution_count": 7,
   "metadata": {},
   "outputs": [
    {
     "data": {
      "text/plain": [
       "============================================================================================================================================\n",
       "Layer (type (var_name))                                      Input Shape          Output Shape         Param #              Trainable\n",
       "============================================================================================================================================\n",
       "VisionTransformer (VisionTransformer)                        [32, 3, 224, 224]    [32, 1000]           768                  False\n",
       "├─Conv2d (conv_proj)                                         [32, 3, 224, 224]    [32, 768, 14, 14]    (590,592)            False\n",
       "├─Encoder (encoder)                                          [32, 197, 768]       [32, 197, 768]       151,296              False\n",
       "│    └─Dropout (dropout)                                     [32, 197, 768]       [32, 197, 768]       --                   --\n",
       "│    └─Sequential (layers)                                   [32, 197, 768]       [32, 197, 768]       --                   False\n",
       "│    │    └─EncoderBlock (encoder_layer_0)                   [32, 197, 768]       [32, 197, 768]       (7,087,872)          False\n",
       "│    │    └─EncoderBlock (encoder_layer_1)                   [32, 197, 768]       [32, 197, 768]       (7,087,872)          False\n",
       "│    │    └─EncoderBlock (encoder_layer_2)                   [32, 197, 768]       [32, 197, 768]       (7,087,872)          False\n",
       "│    │    └─EncoderBlock (encoder_layer_3)                   [32, 197, 768]       [32, 197, 768]       (7,087,872)          False\n",
       "│    │    └─EncoderBlock (encoder_layer_4)                   [32, 197, 768]       [32, 197, 768]       (7,087,872)          False\n",
       "│    │    └─EncoderBlock (encoder_layer_5)                   [32, 197, 768]       [32, 197, 768]       (7,087,872)          False\n",
       "│    │    └─EncoderBlock (encoder_layer_6)                   [32, 197, 768]       [32, 197, 768]       (7,087,872)          False\n",
       "│    │    └─EncoderBlock (encoder_layer_7)                   [32, 197, 768]       [32, 197, 768]       (7,087,872)          False\n",
       "│    │    └─EncoderBlock (encoder_layer_8)                   [32, 197, 768]       [32, 197, 768]       (7,087,872)          False\n",
       "│    │    └─EncoderBlock (encoder_layer_9)                   [32, 197, 768]       [32, 197, 768]       (7,087,872)          False\n",
       "│    │    └─EncoderBlock (encoder_layer_10)                  [32, 197, 768]       [32, 197, 768]       (7,087,872)          False\n",
       "│    │    └─EncoderBlock (encoder_layer_11)                  [32, 197, 768]       [32, 197, 768]       (7,087,872)          False\n",
       "│    └─LayerNorm (ln)                                        [32, 197, 768]       [32, 197, 768]       (1,536)              False\n",
       "├─Sequential (heads)                                         [32, 768]            [32, 1000]           --                   False\n",
       "│    └─Linear (head)                                         [32, 768]            [32, 1000]           (769,000)            False\n",
       "============================================================================================================================================\n",
       "Total params: 86,567,656\n",
       "Trainable params: 0\n",
       "Non-trainable params: 86,567,656\n",
       "Total mult-adds (G): 5.54\n",
       "============================================================================================================================================\n",
       "Input size (MB): 19.27\n",
       "Forward/backward pass size (MB): 3330.99\n",
       "Params size (MB): 232.27\n",
       "Estimated Total Size (MB): 3582.53\n",
       "============================================================================================================================================"
      ]
     },
     "execution_count": 7,
     "metadata": {},
     "output_type": "execute_result"
    }
   ],
   "source": [
    "# Print a summary of our custom ViT model using torchinfo (uncomment for actual output)\n",
    "summary(model=pretrained_vit, \n",
    "         input_size=(32, 3, 224, 224), # (batch_size, color_channels, height, width)\n",
    "         #col_names=[\"input_size\"], # uncomment for smaller output\n",
    "         col_names=[\"input_size\", \"output_size\", \"num_params\", \"trainable\"],\n",
    "         col_width=20,\n",
    "         row_settings=[\"var_names\"]\n",
    ")"
   ]
  },
  {
   "cell_type": "code",
   "execution_count": 8,
   "metadata": {},
   "outputs": [],
   "source": [
    "# Freeze the base parameters\n",
    "for parameter in pretrained_vit.parameters():\n",
    "    parameter.requires_grad = False\n",
    "    \n",
    "# Change the classifier head (set the seeds to ensure same initialization with linear head)\n",
    "pretrained_vit.heads = nn.Linear(in_features=768, out_features=34).to(device)\n",
    "# pretrained_vit # uncomment for model output \n"
   ]
  },
  {
   "cell_type": "code",
   "execution_count": 9,
   "metadata": {},
   "outputs": [
    {
     "data": {
      "text/plain": [
       "============================================================================================================================================\n",
       "Layer (type (var_name))                                      Input Shape          Output Shape         Param #              Trainable\n",
       "============================================================================================================================================\n",
       "VisionTransformer (VisionTransformer)                        [32, 3, 224, 224]    [32, 34]             768                  Partial\n",
       "├─Conv2d (conv_proj)                                         [32, 3, 224, 224]    [32, 768, 14, 14]    (590,592)            False\n",
       "├─Encoder (encoder)                                          [32, 197, 768]       [32, 197, 768]       151,296              False\n",
       "│    └─Dropout (dropout)                                     [32, 197, 768]       [32, 197, 768]       --                   --\n",
       "│    └─Sequential (layers)                                   [32, 197, 768]       [32, 197, 768]       --                   False\n",
       "│    │    └─EncoderBlock (encoder_layer_0)                   [32, 197, 768]       [32, 197, 768]       (7,087,872)          False\n",
       "│    │    └─EncoderBlock (encoder_layer_1)                   [32, 197, 768]       [32, 197, 768]       (7,087,872)          False\n",
       "│    │    └─EncoderBlock (encoder_layer_2)                   [32, 197, 768]       [32, 197, 768]       (7,087,872)          False\n",
       "│    │    └─EncoderBlock (encoder_layer_3)                   [32, 197, 768]       [32, 197, 768]       (7,087,872)          False\n",
       "│    │    └─EncoderBlock (encoder_layer_4)                   [32, 197, 768]       [32, 197, 768]       (7,087,872)          False\n",
       "│    │    └─EncoderBlock (encoder_layer_5)                   [32, 197, 768]       [32, 197, 768]       (7,087,872)          False\n",
       "│    │    └─EncoderBlock (encoder_layer_6)                   [32, 197, 768]       [32, 197, 768]       (7,087,872)          False\n",
       "│    │    └─EncoderBlock (encoder_layer_7)                   [32, 197, 768]       [32, 197, 768]       (7,087,872)          False\n",
       "│    │    └─EncoderBlock (encoder_layer_8)                   [32, 197, 768]       [32, 197, 768]       (7,087,872)          False\n",
       "│    │    └─EncoderBlock (encoder_layer_9)                   [32, 197, 768]       [32, 197, 768]       (7,087,872)          False\n",
       "│    │    └─EncoderBlock (encoder_layer_10)                  [32, 197, 768]       [32, 197, 768]       (7,087,872)          False\n",
       "│    │    └─EncoderBlock (encoder_layer_11)                  [32, 197, 768]       [32, 197, 768]       (7,087,872)          False\n",
       "│    └─LayerNorm (ln)                                        [32, 197, 768]       [32, 197, 768]       (1,536)              False\n",
       "├─Linear (heads)                                             [32, 768]            [32, 34]             26,146               True\n",
       "============================================================================================================================================\n",
       "Total params: 85,824,802\n",
       "Trainable params: 26,146\n",
       "Non-trainable params: 85,798,656\n",
       "Total mult-adds (G): 5.52\n",
       "============================================================================================================================================\n",
       "Input size (MB): 19.27\n",
       "Forward/backward pass size (MB): 3330.74\n",
       "Params size (MB): 229.30\n",
       "Estimated Total Size (MB): 3579.31\n",
       "============================================================================================================================================"
      ]
     },
     "execution_count": 9,
     "metadata": {},
     "output_type": "execute_result"
    }
   ],
   "source": [
    "summary(model=pretrained_vit, \n",
    "         input_size=(32, 3, 224, 224), # (batch_size, color_channels, height, width)\n",
    "         #col_names=[\"input_size\"], # uncomment for smaller output\n",
    "         col_names=[\"input_size\", \"output_size\", \"num_params\", \"trainable\"],\n",
    "         col_width=20,\n",
    "         row_settings=[\"var_names\"]\n",
    ")"
   ]
  },
  {
   "attachments": {},
   "cell_type": "markdown",
   "metadata": {},
   "source": [
    "# Preparing Data for the pretrained ViT Model imported from torchvision.models"
   ]
  },
  {
   "cell_type": "code",
   "execution_count": 10,
   "metadata": {},
   "outputs": [
    {
     "name": "stdout",
     "output_type": "stream",
     "text": [
      "ImageClassification(\n",
      "    crop_size=[224]\n",
      "    resize_size=[256]\n",
      "    mean=[0.485, 0.456, 0.406]\n",
      "    std=[0.229, 0.224, 0.225]\n",
      "    interpolation=InterpolationMode.BILINEAR\n",
      ")\n"
     ]
    }
   ],
   "source": [
    "# Get automatic transforms from pretrained ViT weights\n",
    "pretrained_vit_transforms = pretrained_vit_weights.transforms()\n",
    "print(pretrained_vit_transforms)"
   ]
  },
  {
   "cell_type": "code",
   "execution_count": 11,
   "metadata": {},
   "outputs": [],
   "source": [
    "image_path = \"/home/sur06423/hiwi/vit_exp/vision_tranformer_baseline/daa_dataset/\"\n",
    "train_dir = \"/home/sur06423/hiwi/vit_exp/vision_tranformer_baseline/daa_dataset/train\"\n",
    "test_dir = \"/home/sur06423/hiwi/vit_exp/vision_tranformer_baseline/daa_dataset/test\"\n",
    "val_dir = \"/home/sur06423/hiwi/vit_exp/vision_tranformer_baseline/daa_dataset/val\""
   ]
  },
  {
   "cell_type": "code",
   "execution_count": 12,
   "metadata": {},
   "outputs": [
    {
     "data": {
      "text/plain": [
       "(<torch.utils.data.dataloader.DataLoader at 0x7fa713b17e50>,\n",
       " <torch.utils.data.dataloader.DataLoader at 0x7fa713b17610>,\n",
       " <torch.utils.data.dataloader.DataLoader at 0x7fa713b15300>,\n",
       " ['closing_bottle',\n",
       "  'closing_door_inside',\n",
       "  'closing_door_outside',\n",
       "  'closing_laptop',\n",
       "  'drinking',\n",
       "  'eating',\n",
       "  'entering_car',\n",
       "  'exiting_car',\n",
       "  'fastening_seat_belt',\n",
       "  'fetching_an_object',\n",
       "  'interacting_with_phone',\n",
       "  'looking_or_moving_around (e.g. searching)',\n",
       "  'opening_backpack',\n",
       "  'opening_bottle',\n",
       "  'opening_door_inside',\n",
       "  'opening_door_outside',\n",
       "  'opening_laptop',\n",
       "  'placing_an_object',\n",
       "  'preparing_food',\n",
       "  'pressing_automation_button',\n",
       "  'putting_laptop_into_backpack',\n",
       "  'putting_on_jacket',\n",
       "  'putting_on_sunglasses',\n",
       "  'reading_magazine',\n",
       "  'reading_newspaper',\n",
       "  'sitting_still',\n",
       "  'taking_laptop_from_backpack',\n",
       "  'taking_off_jacket',\n",
       "  'taking_off_sunglasses',\n",
       "  'talking_on_phone',\n",
       "  'unfastening_seat_belt',\n",
       "  'using_multimedia_display',\n",
       "  'working_on_laptop',\n",
       "  'writing'])"
      ]
     },
     "execution_count": 12,
     "metadata": {},
     "output_type": "execute_result"
    }
   ],
   "source": [
    "from src.components import data_setup\n",
    "# Create image size (from Table 3 in the ViT paper) \n",
    "IMG_SIZE = 224\n",
    "BATCH_SIZE = 16\n",
    "\n",
    "train_dataloader, test_dataloader , val_dataloader, class_names = data_setup.create_dataloaders(\n",
    "    train_dir= train_dir,\n",
    "    test_dir=test_dir,\n",
    "    val_dir = val_dir,\n",
    "    transform=pretrained_vit_transforms,\n",
    "    batch_size=BATCH_SIZE,\n",
    "    num_workers= 4,\n",
    ")\n",
    "\n",
    "train_dataloader, test_dataloader, val_dataloader, class_names"
   ]
  },
  {
   "cell_type": "code",
   "execution_count": 13,
   "metadata": {},
   "outputs": [
    {
     "data": {
      "text/plain": [
       "(16242, 5458, 3502)"
      ]
     },
     "execution_count": 13,
     "metadata": {},
     "output_type": "execute_result"
    }
   ],
   "source": [
    "len(train_dataloader), len(test_dataloader), len(val_dataloader)"
   ]
  },
  {
   "cell_type": "code",
   "execution_count": 14,
   "metadata": {},
   "outputs": [
    {
     "data": {
      "text/plain": [
       "(torch.Size([3, 224, 224]), tensor(23))"
      ]
     },
     "execution_count": 14,
     "metadata": {},
     "output_type": "execute_result"
    }
   ],
   "source": [
    "# Get a batch of images\n",
    "image_batch, label_batch = next(iter(train_dataloader))\n",
    "\n",
    "# Get a single image from the batch\n",
    "image, label = image_batch[0], label_batch[0]\n",
    "\n",
    "# View the batch shapes\n",
    "image.shape, label"
   ]
  },
  {
   "cell_type": "code",
   "execution_count": 15,
   "metadata": {},
   "outputs": [
    {
     "data": {
      "text/plain": [
       "(torch.Size([16, 3, 224, 224]), torch.Size([16]))"
      ]
     },
     "execution_count": 15,
     "metadata": {},
     "output_type": "execute_result"
    }
   ],
   "source": [
    "image_batch.shape , label_batch.shape"
   ]
  },
  {
   "cell_type": "code",
   "execution_count": 16,
   "metadata": {},
   "outputs": [
    {
     "data": {
      "text/plain": [
       "tensor([23,  4, 23,  5, 16, 25, 10, 25, 33, 17,  5, 17, 33, 11,  0, 24])"
      ]
     },
     "execution_count": 16,
     "metadata": {},
     "output_type": "execute_result"
    }
   ],
   "source": [
    "label_batch"
   ]
  },
  {
   "cell_type": "code",
   "execution_count": 17,
   "metadata": {},
   "outputs": [
    {
     "name": "stderr",
     "output_type": "stream",
     "text": [
      "Clipping input data to the valid range for imshow with RGB data ([0..1] for floats or [0..255] for integers).\n"
     ]
    },
    {
     "data": {
      "image/png": "[encoded data removed]",
      "text/plain": [
       "<Figure size 640x480 with 1 Axes>"
      ]
     },
     "metadata": {},
     "output_type": "display_data"
    }
   ],
   "source": [
    "import matplotlib.pyplot as plt\n",
    "# Plot image with matplotlib\n",
    "plt.imshow(image.permute(1, 2, 0)) # rearrange image dimensions to suit matplotlib [color_channels, height, width] -> [height, width, color_channels]\n",
    "plt.title(class_names[label])\n",
    "plt.axis(False);"
   ]
  },
  {
   "cell_type": "code",
   "execution_count": 18,
   "metadata": {},
   "outputs": [
    {
     "data": {
      "text/plain": [
       "tensor([[[[ 2.1804,  2.1633,  2.1462,  ...,  1.0844,  1.0844,  1.1358],\n",
       "          [ 2.1804,  2.1804,  2.1804,  ...,  1.0673,  1.0844,  1.1015],\n",
       "          [ 2.1804,  2.1975,  2.1975,  ...,  1.0673,  1.1015,  1.0673],\n",
       "          ...,\n",
       "          [-1.9980, -1.9980, -2.0152,  ..., -2.0152, -2.0152, -2.0494],\n",
       "          [-2.0323, -2.0152, -2.0152,  ..., -1.9980, -1.9980, -2.0152],\n",
       "          [-1.9980, -1.9980, -2.0152,  ..., -2.0152, -2.0152, -2.0152]],\n",
       "\n",
       "         [[ 2.3936,  2.3936,  2.4111,  ...,  1.4307,  1.4307,  1.4832],\n",
       "          [ 2.3936,  2.3936,  2.3936,  ...,  1.4132,  1.4307,  1.4482],\n",
       "          [ 2.3936,  2.3936,  2.3936,  ...,  1.3957,  1.4482,  1.4132],\n",
       "          ...,\n",
       "          [-1.8256, -1.8256, -1.8431,  ..., -1.9132, -1.9132, -1.9307],\n",
       "          [-1.8606, -1.8431, -1.8431,  ..., -1.8782, -1.8782, -1.8957],\n",
       "          [-1.8431, -1.8256, -1.8431,  ..., -1.8431, -1.8606, -1.8606]],\n",
       "\n",
       "         [[ 2.6051,  2.5877,  2.5529,  ...,  1.4548,  1.4548,  1.5071],\n",
       "          [ 2.6051,  2.5877,  2.5529,  ...,  1.4374,  1.4548,  1.4722],\n",
       "          [ 2.6051,  2.5877,  2.5529,  ...,  1.4374,  1.4722,  1.4374],\n",
       "          ...,\n",
       "          [-1.6302, -1.6127, -1.6302,  ..., -1.6302, -1.6476, -1.6999],\n",
       "          [-1.6476, -1.6302, -1.6302,  ..., -1.5953, -1.6302, -1.6650],\n",
       "          [-1.5953, -1.5953, -1.6302,  ..., -1.5953, -1.6476, -1.6476]]]],\n",
       "       device='cuda:0')"
      ]
     },
     "execution_count": 18,
     "metadata": {},
     "output_type": "execute_result"
    }
   ],
   "source": [
    "image_1 = image.unsqueeze(0)\n",
    "image_1.shape\n",
    "image_1.to(device)"
   ]
  },
  {
   "cell_type": "code",
   "execution_count": 19,
   "metadata": {},
   "outputs": [],
   "source": [
    "prediction = pretrained_vit(image_1.to(device))"
   ]
  },
  {
   "cell_type": "code",
   "execution_count": 20,
   "metadata": {},
   "outputs": [
    {
     "data": {
      "text/plain": [
       "torch.Size([1, 34])"
      ]
     },
     "execution_count": 20,
     "metadata": {},
     "output_type": "execute_result"
    }
   ],
   "source": [
    "prediction.shape"
   ]
  },
  {
   "cell_type": "code",
   "execution_count": 21,
   "metadata": {},
   "outputs": [
    {
     "data": {
      "text/plain": [
       "tensor([[ 1.0182,  0.4718, -0.2339,  0.5946, -0.3584, -0.1540,  0.5902,  0.3808,\n",
       "          1.0384, -0.4482,  0.1677, -0.4279, -0.2841,  0.8211,  0.3660, -0.4879,\n",
       "          0.3979, -0.0099, -0.4680, -0.0941, -0.6405, -0.3465, -0.6842, -0.8331,\n",
       "          0.3865,  1.2983,  0.4304,  0.0750,  0.4485,  0.1520, -0.4378,  0.3681,\n",
       "         -0.4645, -0.0319]], device='cuda:0', grad_fn=<AddmmBackward0>)"
      ]
     },
     "execution_count": 21,
     "metadata": {},
     "output_type": "execute_result"
    }
   ],
   "source": [
    "prediction"
   ]
  },
  {
   "cell_type": "code",
   "execution_count": 22,
   "metadata": {},
   "outputs": [
    {
     "data": {
      "text/plain": [
       "tensor([[14, 10, 16,  1, 32, 19, 26, 14, 26, 23, 14, 21,  0, 20,  3, 32]])"
      ]
     },
     "execution_count": 22,
     "metadata": {},
     "output_type": "execute_result"
    }
   ],
   "source": [
    "random_ground_truth = torch.randint(0, 35, (1,16))\n",
    "random_ground_truth"
   ]
  },
  {
   "cell_type": "code",
   "execution_count": 23,
   "metadata": {},
   "outputs": [
    {
     "data": {
      "text/plain": [
       "torch.Size([16])"
      ]
     },
     "execution_count": 23,
     "metadata": {},
     "output_type": "execute_result"
    }
   ],
   "source": [
    "random_ground_truth = random_ground_truth.squeeze(dim=0)\n",
    "random_ground_truth.shape"
   ]
  },
  {
   "cell_type": "code",
   "execution_count": 24,
   "metadata": {},
   "outputs": [
    {
     "data": {
      "text/plain": [
       "tensor([25])"
      ]
     },
     "execution_count": 24,
     "metadata": {},
     "output_type": "execute_result"
    }
   ],
   "source": [
    "prediction_cpu = prediction.detach().cpu()\n",
    "# Apply the softmax operation on logits to get probabilities\n",
    "prediction_cpu = torch.softmax(prediction_cpu, dim=1)\n",
    "# Get the index of the maximum predicted class probability\n",
    "prediction_cpu = torch.argmax(prediction_cpu, dim=1)\n",
    "prediction_cpu"
   ]
  },
  {
   "cell_type": "code",
   "execution_count": 25,
   "metadata": {},
   "outputs": [
    {
     "data": {
      "text/plain": [
       "torch.Size([16])"
      ]
     },
     "execution_count": 25,
     "metadata": {},
     "output_type": "execute_result"
    }
   ],
   "source": [
    "image_batch.shape\n",
    "label_batch.shape"
   ]
  },
  {
   "cell_type": "code",
   "execution_count": 26,
   "metadata": {},
   "outputs": [
    {
     "data": {
      "text/plain": [
       "tensor([16, 21, 17, 28, 25, 33, 21, 25, 25, 17, 25, 24,  5, 25,  5, 27])"
      ]
     },
     "execution_count": 26,
     "metadata": {},
     "output_type": "execute_result"
    }
   ],
   "source": [
    "label_batch"
   ]
  },
  {
   "cell_type": "code",
   "execution_count": 27,
   "metadata": {},
   "outputs": [],
   "source": [
    "prediction_batch = pretrained_vit(image_batch.to(device))"
   ]
  },
  {
   "cell_type": "code",
   "execution_count": 28,
   "metadata": {},
   "outputs": [
    {
     "data": {
      "text/plain": [
       "torch.Size([16, 34])"
      ]
     },
     "execution_count": 28,
     "metadata": {},
     "output_type": "execute_result"
    }
   ],
   "source": [
    "prediction_batch.shape"
   ]
  },
  {
   "cell_type": "code",
   "execution_count": 29,
   "metadata": {},
   "outputs": [
    {
     "data": {
      "text/plain": [
       "tensor([[ 1.0182e+00,  4.7178e-01, -2.3391e-01,  5.9455e-01, -3.5845e-01,\n",
       "         -1.5402e-01,  5.9024e-01,  3.8083e-01,  1.0384e+00, -4.4821e-01,\n",
       "          1.6768e-01, -4.2791e-01, -2.8412e-01,  8.2105e-01,  3.6599e-01,\n",
       "         -4.8792e-01,  3.9788e-01, -9.9193e-03, -4.6796e-01, -9.4111e-02,\n",
       "         -6.4046e-01, -3.4654e-01, -6.8424e-01, -8.3305e-01,  3.8649e-01,\n",
       "          1.2983e+00,  4.3036e-01,  7.4964e-02,  4.4853e-01,  1.5199e-01,\n",
       "         -4.3784e-01,  3.6812e-01, -4.6448e-01, -3.1878e-02],\n",
       "        [ 4.0574e-01,  5.8288e-01, -5.6272e-01,  6.5597e-01, -3.2681e-01,\n",
       "          1.0326e-01,  8.7111e-01,  5.3475e-01,  6.4218e-01, -6.9271e-01,\n",
       "          1.8250e-02, -4.6030e-01, -6.3614e-01,  5.3169e-01,  2.6933e-01,\n",
       "         -2.2175e-01,  4.1913e-01,  3.7943e-01, -1.7158e-01,  1.4899e-01,\n",
       "         -5.7086e-01, -3.4432e-01, -4.4123e-01, -2.4481e-01,  5.3577e-01,\n",
       "          9.8042e-01,  5.4902e-01,  5.4308e-02,  3.5290e-01, -1.3367e-01,\n",
       "          4.6108e-03,  6.7774e-01, -5.7943e-01, -3.9341e-01],\n",
       "        [ 9.5977e-01,  1.8718e-01,  2.3000e-01,  7.4659e-01, -3.6860e-01,\n",
       "         -8.9905e-02,  7.8910e-01,  2.9395e-01,  5.8260e-01, -2.6664e-01,\n",
       "         -3.2373e-01, -3.3867e-01, -5.6260e-01,  8.3318e-01,  4.0908e-01,\n",
       "         -5.7366e-01,  2.5447e-01, -4.3945e-01,  9.0374e-02,  1.9136e-01,\n",
       "         -1.0321e+00,  3.8636e-01, -8.6012e-01, -8.3462e-01,  1.7844e-01,\n",
       "          8.5832e-01,  4.5693e-01,  4.8290e-02,  1.1796e-01,  4.1890e-01,\n",
       "         -5.9858e-01,  2.5564e-01, -6.7318e-01, -3.5719e-01],\n",
       "        [ 2.9730e-01,  4.0288e-01,  2.3350e-01,  7.3241e-01, -3.6748e-01,\n",
       "         -4.2825e-01,  3.6407e-01,  3.1034e-01,  7.3407e-01, -4.7137e-01,\n",
       "          2.9461e-01, -4.1141e-02, -5.2912e-01,  5.6752e-01,  5.9191e-01,\n",
       "         -8.4087e-01,  5.8274e-01,  2.9155e-02, -7.2730e-01,  4.4513e-01,\n",
       "         -7.5492e-01, -1.1512e-01, -4.6423e-01, -7.3461e-01,  6.9154e-01,\n",
       "          1.1844e+00,  4.3596e-01, -1.7420e-01,  2.2090e-01,  6.5644e-02,\n",
       "         -4.8244e-01,  5.2484e-01, -9.7790e-02,  9.6618e-02],\n",
       "        [ 7.6915e-01, -4.1558e-01, -1.4803e-01,  8.9644e-01, -3.9288e-01,\n",
       "          5.0222e-02,  2.7257e-01,  3.3561e-01,  9.1510e-01, -2.2135e-01,\n",
       "          1.2279e-01, -5.4605e-02, -5.9380e-01,  4.2099e-01,  3.3071e-01,\n",
       "         -3.1415e-01,  4.5817e-01,  2.4028e-01, -2.3795e-01, -3.8301e-02,\n",
       "         -5.1862e-01,  2.1898e-01, -1.5505e-01, -3.7967e-01, -4.2731e-03,\n",
       "          7.8603e-01, -1.5742e-01, -1.9342e-01,  1.9959e-01,  2.4078e-01,\n",
       "         -1.3239e-01,  3.0879e-01,  5.0104e-02, -3.5733e-01],\n",
       "        [ 6.8301e-01,  2.0228e-01,  1.8427e-01,  8.4446e-01, -5.3719e-01,\n",
       "         -5.4785e-02,  5.5381e-01,  2.1102e-01,  7.4239e-01, -2.9125e-01,\n",
       "         -7.5554e-02, -1.7995e-01, -3.3006e-01,  4.9862e-01,  5.6665e-02,\n",
       "         -9.2348e-01,  2.9788e-01,  4.8299e-01, -4.3929e-01,  1.0309e-01,\n",
       "         -6.3459e-01,  1.5771e-01, -6.0964e-01, -4.6914e-01,  4.2902e-01,\n",
       "          1.1385e+00,  2.5901e-01, -4.9480e-01,  2.8736e-01,  1.9464e-01,\n",
       "         -2.5655e-01,  5.2782e-01, -6.0031e-01, -3.2659e-01],\n",
       "        [ 1.0953e+00,  1.6175e-01,  4.0876e-01,  6.5692e-01, -2.5233e-01,\n",
       "          2.4098e-01,  3.7152e-01,  2.6033e-01,  8.3634e-01, -2.6320e-01,\n",
       "         -1.3310e-01, -6.1231e-01, -4.5858e-01,  4.9779e-01, -6.3832e-02,\n",
       "         -7.2662e-01,  2.6443e-01,  3.6099e-01, -1.2074e-01,  5.2927e-02,\n",
       "         -6.4412e-01,  1.1456e-01, -8.4000e-01, -4.6648e-01,  2.0956e-01,\n",
       "          1.2739e+00,  2.6803e-01, -1.8021e-01,  9.8857e-02,  8.6170e-02,\n",
       "         -2.9614e-01,  4.1963e-01, -6.3215e-01, -2.2459e-01],\n",
       "        [ 6.9107e-01,  2.7699e-01, -1.4478e-01,  1.4084e+00, -7.2901e-02,\n",
       "          1.4358e-01,  5.9866e-01,  2.4882e-01,  8.9554e-01, -3.9973e-01,\n",
       "          1.4496e-01, -6.2731e-01, -2.9504e-01,  3.9423e-01,  2.4402e-01,\n",
       "         -6.6308e-01,  2.8303e-01,  1.0669e-01, -2.9119e-01, -4.1707e-01,\n",
       "         -4.1320e-01,  3.2345e-03, -6.9309e-01, -1.1283e-01,  2.7610e-01,\n",
       "          1.3939e+00,  6.0025e-01, -2.4874e-01,  3.7838e-01,  4.0602e-01,\n",
       "         -1.3295e-02,  3.4955e-01, -2.4738e-01, -2.4533e-01],\n",
       "        [ 7.2031e-01, -2.5306e-01, -4.3340e-02,  8.4299e-01, -3.8621e-01,\n",
       "          6.1616e-02,  6.5814e-01,  2.6847e-01,  9.3771e-01, -1.9165e-01,\n",
       "          1.0858e-01, -4.4048e-01, -9.1542e-01,  9.6664e-02,  4.5901e-01,\n",
       "         -4.6321e-01,  2.1788e-01, -2.0801e-01, -1.1558e-01, -1.5959e-01,\n",
       "         -7.5937e-01, -1.0445e-01, -5.9487e-01, -3.2644e-01,  2.4004e-02,\n",
       "          5.6960e-01,  3.3861e-01, -1.3040e-01,  3.4711e-01,  2.1864e-01,\n",
       "         -1.6633e-01,  7.5446e-01, -4.5743e-01, -6.6014e-02],\n",
       "        [ 7.9883e-01,  4.6173e-02, -5.5371e-01,  3.0336e-01, -4.3731e-03,\n",
       "          1.0231e-01,  4.5311e-01,  2.1922e-01,  4.6758e-01, -2.2987e-01,\n",
       "         -3.2376e-01, -4.2803e-02, -1.4071e-03, -4.3532e-01,  1.2771e-02,\n",
       "         -4.4456e-01, -3.0724e-01,  7.0624e-01,  3.6271e-04,  1.9812e-01,\n",
       "         -2.0772e-01, -2.2936e-01, -7.3359e-01,  3.6322e-01, -3.6619e-01,\n",
       "          7.3815e-01, -1.2142e-01,  1.3626e-01,  4.8191e-01,  1.2558e-01,\n",
       "         -1.0082e+00,  3.5889e-02, -1.7256e-01, -8.9961e-02],\n",
       "        [ 5.4691e-01, -2.1308e-01,  7.7143e-02,  7.9205e-01, -2.2774e-01,\n",
       "         -5.7446e-02,  2.8452e-01,  2.2035e-01,  5.7929e-01, -5.0233e-01,\n",
       "          9.7288e-02, -1.9408e-01, -3.1768e-01,  4.2028e-01,  2.3050e-01,\n",
       "         -1.9303e-01,  6.3391e-01, -4.9788e-02,  2.3362e-01, -1.7865e-03,\n",
       "         -4.2599e-01, -5.2974e-01, -5.7868e-02, -2.6040e-01,  3.5272e-01,\n",
       "          5.4218e-01, -1.9002e-02, -1.4742e-01,  2.8640e-01,  2.1770e-01,\n",
       "          1.6723e-02,  4.0358e-01, -4.8089e-02, -3.0991e-01],\n",
       "        [-3.4852e-01, -4.2971e-02, -9.3644e-01,  8.4386e-01, -6.1403e-01,\n",
       "         -3.1759e-01,  8.6604e-01,  8.4145e-01,  8.1902e-01, -5.6250e-01,\n",
       "          6.7569e-01,  2.3870e-01, -4.9245e-01,  1.4068e-01,  5.8531e-01,\n",
       "          1.6582e-01,  2.6031e-01, -1.0042e-01, -1.5051e-01,  7.1337e-02,\n",
       "         -5.5502e-01, -2.2139e-02, -3.9121e-01,  5.0255e-02,  5.8118e-01,\n",
       "          7.5195e-01,  1.0121e-01,  8.1181e-02,  4.3834e-01, -2.4356e-01,\n",
       "         -4.1995e-01,  8.5882e-01,  3.7555e-01, -1.3998e-01],\n",
       "        [ 9.0676e-01,  1.4352e-01, -1.8467e-01,  8.4982e-01, -2.7413e-01,\n",
       "         -8.4724e-02,  4.4990e-01,  3.7327e-01,  8.8617e-01, -7.8849e-01,\n",
       "         -2.8483e-01, -4.0450e-01, -8.2937e-01,  5.4567e-01,  1.8173e-01,\n",
       "         -2.8406e-01,  3.9270e-01, -1.7820e-02,  6.1616e-02, -1.5579e-01,\n",
       "         -6.5650e-01, -2.4352e-01, -8.0380e-01, -2.0280e-01,  3.8462e-01,\n",
       "          8.7428e-01, -5.9622e-02, -2.1781e-02,  3.1700e-01,  3.4988e-01,\n",
       "         -2.4061e-01,  4.9305e-01, -2.3540e-01,  2.1869e-02],\n",
       "        [ 9.2877e-01, -3.8775e-01, -3.1527e-02,  7.6521e-01, -6.8141e-01,\n",
       "         -2.8476e-02,  2.0399e-01,  1.2299e-01,  7.1055e-01, -3.9781e-01,\n",
       "         -7.4662e-02, -3.6761e-01, -6.3837e-01,  1.4884e-01,  1.4623e-01,\n",
       "         -6.0426e-01,  6.2008e-01,  2.5592e-02,  1.2031e-01, -1.7162e-02,\n",
       "         -7.6244e-01, -1.1035e-01, -3.8333e-01, -1.4361e-01,  5.0751e-01,\n",
       "          6.0200e-01, -2.2861e-01, -2.6437e-01,  4.9480e-01,  3.9529e-01,\n",
       "          2.2382e-01,  3.4929e-01,  2.8298e-02, -3.2696e-01],\n",
       "        [ 6.4039e-01,  2.3655e-01, -5.0083e-01,  9.3711e-01, -5.3109e-01,\n",
       "         -5.5697e-01,  5.9078e-01,  1.6946e-01,  1.0594e+00, -4.3830e-01,\n",
       "         -1.1282e-01, -1.7420e-01, -6.5938e-01,  4.8921e-01,  1.4288e-01,\n",
       "         -3.1609e-01,  4.7660e-01,  4.4297e-01, -1.2086e-01,  1.2500e-01,\n",
       "         -9.2475e-01, -1.0600e-01, -1.0239e-01, -5.5729e-01,  1.0759e-01,\n",
       "          3.3008e-01, -7.0235e-02, -1.7867e-02,  6.8585e-02,  3.8231e-01,\n",
       "         -3.5806e-01,  4.4778e-01, -1.9909e-01, -7.7739e-01],\n",
       "        [ 1.0111e+00,  4.0964e-01,  1.0368e-01,  7.3985e-01, -4.5672e-01,\n",
       "          1.7947e-01,  4.4400e-01,  1.3866e-01,  8.4735e-01, -3.1054e-01,\n",
       "         -3.3386e-01, -2.4058e-01, -5.8915e-01,  6.8581e-01,  6.3018e-01,\n",
       "         -3.1174e-01,  2.6797e-01, -7.1407e-02, -1.3499e-01,  2.3951e-01,\n",
       "         -1.1160e+00,  9.8847e-02, -1.1229e+00, -4.9499e-01,  1.8955e-01,\n",
       "          9.5659e-01,  4.3589e-01, -1.9985e-01,  3.6887e-01,  3.2775e-01,\n",
       "         -6.4784e-01, -7.3707e-02, -5.8147e-01, -3.1272e-01]], device='cuda:0',\n",
       "       grad_fn=<AddmmBackward0>)"
      ]
     },
     "execution_count": 29,
     "metadata": {},
     "output_type": "execute_result"
    }
   ],
   "source": [
    "prediction_batch"
   ]
  },
  {
   "cell_type": "code",
   "execution_count": 46,
   "metadata": {},
   "outputs": [
    {
     "name": "stdout",
     "output_type": "stream",
     "text": [
      "The accuracy score according to sklearn metrics is 0.75\n",
      "The balanced accuracy score according to sklearn metrics is 0.7833333333333334\n"
     ]
    },
    {
     "name": "stderr",
     "output_type": "stream",
     "text": [
      "/home/sur06423/miniconda3/envs/vi_trans/lib/python3.10/site-packages/sklearn/metrics/_classification.py:2394: UserWarning: y_pred contains classes not in y_true\n",
      "  warnings.warn(\"y_pred contains classes not in y_true\")\n"
     ]
    }
   ],
   "source": [
    "import torch\n",
    "from sklearn.metrics import accuracy_score, balanced_accuracy_score\n",
    "\n",
    "prediction_batch = torch.tensor([33, 21, 23,  8, 10,  10,  5,  15, 25,  9, 23,  15, 32, 21, 23,  8])\n",
    "prediction_batch_cpu = prediction_batch.detach().cpu()\n",
    "\n",
    "label_batch = torch.tensor([33, 21, 25,  8, 10,  0,  5,  5, 25,  9, 23,  5, 32, 21, 23,  8])\n",
    "# Convert tensors to numpy arrays if needed\n",
    "label_batch_numpy = label_batch.numpy() if isinstance(label_batch, torch.Tensor) else label_batch\n",
    "\n",
    "# Calculate accuracy using sklearn metrics\n",
    "acc_sk = accuracy_score(label_batch_numpy, prediction_batch_cpu.numpy())\n",
    "print(f\"The accuracy score according to sklearn metrics is {acc_sk}\")\n",
    "\n",
    "bal_acc_sk = balanced_accuracy_score(label_batch_numpy, prediction_batch_cpu.numpy())\n",
    "print(f\"The balanced accuracy score according to sklearn metrics is {bal_acc_sk}\")"
   ]
  },
  {
   "cell_type": "code",
   "execution_count": 43,
   "metadata": {},
   "outputs": [],
   "source": [
    "train_acc = 0\n",
    "y_pred_class = torch.tensor([33, 21, 23,  8, 10,  10,  5,  15, 25,  9, 23,  15, 32, 21, 23,  8])\n",
    "y = torch.tensor([33, 21, 25,  8, 10,  0,  5,  5, 25,  9, 23,  5, 32, 21, 23,  8])\n",
    "train_acc += (y_pred_class == y).sum().item()/len(y_pred)"
   ]
  },
  {
   "cell_type": "code",
   "execution_count": 44,
   "metadata": {},
   "outputs": [
    {
     "data": {
      "text/plain": [
       "0.75"
      ]
     },
     "execution_count": 44,
     "metadata": {},
     "output_type": "execute_result"
    }
   ],
   "source": [
    "train_acc"
   ]
  },
  {
   "cell_type": "code",
   "execution_count": 35,
   "metadata": {},
   "outputs": [
    {
     "data": {
      "text/plain": [
       "34"
      ]
     },
     "execution_count": 35,
     "metadata": {},
     "output_type": "execute_result"
    }
   ],
   "source": [
    "train_acc = train_acc / len(dataloader)"
   ]
  },
  {
   "cell_type": "code",
   "execution_count": 36,
   "metadata": {},
   "outputs": [
    {
     "name": "stdout",
     "output_type": "stream",
     "text": [
      "True Positives: [0, 0, 0, 0, 1, 1, 0, 0, 0, 1, 2, 0, 0, 0, 0, 0, 0, 0, 1, 0, 0, 0, 0, 0, 0, 8, 0, 0, 0, 1, 0, 0, 0, 1]\n",
      "True Negatives: [16, 16, 16, 16, 15, 15, 16, 16, 16, 15, 14, 16, 16, 16, 16, 16, 16, 16, 15, 16, 16, 16, 16, 16, 16, 8, 16, 16, 16, 15, 16, 16, 16, 15]\n",
      "False Positives: [0, 0, 0, 0, 0, 0, 0, 0, 0, 0, 0, 0, 0, 0, 0, 0, 0, 0, 0, 0, 0, 0, 0, 0, 0, 0, 0, 0, 0, 0, 0, 0, 0, 0]\n",
      "False Negatives: [0, 0, 0, 0, 0, 0, 0, 0, 0, 0, 0, 0, 0, 0, 0, 0, 0, 0, 0, 0, 0, 0, 0, 0, 0, 0, 0, 0, 0, 0, 0, 0, 0, 0]\n",
      "Sensitivity: [0, 0, 0, 0, 1.0, 1.0, 0, 0, 0, 1.0, 1.0, 0, 0, 0, 0, 0, 0, 0, 1.0, 0, 0, 0, 0, 0, 0, 1.0, 0, 0, 0, 1.0, 0, 0, 0, 1.0]\n",
      "Specificity: [1.0, 1.0, 1.0, 1.0, 1.0, 1.0, 1.0, 1.0, 1.0, 1.0, 1.0, 1.0, 1.0, 1.0, 1.0, 1.0, 1.0, 1.0, 1.0, 1.0, 1.0, 1.0, 1.0, 1.0, 1.0, 1.0, 1.0, 1.0, 1.0, 1.0, 1.0, 1.0, 1.0, 1.0]\n",
      "Accuracy: 1.0\n",
      "Precision: [0, 0, 0, 0, 1.0, 1.0, 0, 0, 0, 1.0, 1.0, 0, 0, 0, 0, 0, 0, 0, 1.0, 0, 0, 0, 0, 0, 0, 1.0, 0, 0, 0, 1.0, 0, 0, 0, 1.0]\n",
      "Recall: [0, 0, 0, 0, 1.0, 1.0, 0, 0, 0, 1.0, 1.0, 0, 0, 0, 0, 0, 0, 0, 1.0, 0, 0, 0, 0, 0, 0, 1.0, 0, 0, 0, 1.0, 0, 0, 0, 1.0]\n",
      "F1 Score: [0, 0, 0, 0, 1.0, 1.0, 0, 0, 0, 1.0, 1.0, 0, 0, 0, 0, 0, 0, 0, 1.0, 0, 0, 0, 0, 0, 0, 1.0, 0, 0, 0, 1.0, 0, 0, 0, 1.0]\n",
      "Confusion Matrix: <generator object calculate_metrics.<locals>.<genexpr> at 0x7f07d1998a50>\n",
      "Balanced Accuracy: 0.6176470588235294\n"
     ]
    }
   ],
   "source": [
    "import numpy as np\n",
    "\n",
    "def calculate_metrics(y_true, y_pred, num_classes):\n",
    "    true_positives = [0] * num_classes\n",
    "    true_negatives = [0] * num_classes\n",
    "    false_positives = [0] * num_classes\n",
    "    false_negatives = [0] * num_classes\n",
    "    \n",
    "    for true_label, pred_label in zip(y_true, y_pred):\n",
    "        if 0 <= pred_label < num_classes:\n",
    "            if true_label == pred_label:\n",
    "                true_positives[true_label] += 1\n",
    "                for i in range(num_classes):\n",
    "                    if i != true_label:\n",
    "                        true_negatives[i] += 1\n",
    "            else:\n",
    "                false_positives[pred_label] += 1\n",
    "                false_negatives[true_label] += 1\n",
    "    \n",
    "    sensitivity = [tp / (tp + fn) if (tp + fn) != 0 else 0 for tp, fn in zip(true_positives, false_negatives)]\n",
    "    specificity = [tn / (tn + fp) if (tn + fp) != 0 else 0 for tn, fp in zip(true_negatives, false_positives)]\n",
    "    \n",
    "    accuracy = sum(true_positives) / len(y_true)\n",
    "    \n",
    "    precision = [tp / (tp + fp) if (tp + fp) != 0 else 0 for tp, fp in zip(true_positives, false_positives)]\n",
    "    recall = sensitivity\n",
    "    f1_score = [2 * (prec * rec) / (prec + rec) if (prec + rec) != 0 else 0 for prec, rec in zip(precision, recall)]\n",
    "    \n",
    "    confusion_matrix = np.array([\n",
    "        [true_positives[i], false_positives[i]],\n",
    "        [false_negatives[i], true_negatives[i]]\n",
    "    ] for i in range(num_classes))\n",
    "    \n",
    "    balanced_accuracy = sum([(sens + spec) / 2 for sens, spec in zip(sensitivity, specificity)]) / num_classes\n",
    "    \n",
    "    return {\n",
    "        \"True Positives\": true_positives,\n",
    "        \"True Negatives\": true_negatives,\n",
    "        \"False Positives\": false_positives,\n",
    "        \"False Negatives\": false_negatives,\n",
    "        \"Sensitivity\": sensitivity,\n",
    "        \"Specificity\": specificity,\n",
    "        \"Accuracy\": accuracy,\n",
    "        \"Precision\": precision,\n",
    "        \"Recall\": recall,\n",
    "        \"F1 Score\": f1_score,\n",
    "        \"Confusion Matrix\": confusion_matrix,\n",
    "        \"Balanced Accuracy\": balanced_accuracy\n",
    "    }\n",
    "\n",
    "# Example data\n",
    "# tensor([25,  5, 25, 29, 25, 25, 25,  4, 25, 25, 10, 25, 18,  9, 10, 33])\n",
    "# y_true = [17, 25, 25, 9, 5, 21, 17, 29, 25, 10, 17, 25, 25, 24, 24, 23]\n",
    "y_true = [25,  5, 25, 29, 25, 25, 25,  4, 25, 25, 10, 25, 18,  9, 10, 33]\n",
    "# y_pred = [17, 18, 25, 33, 5, 21, 18, 0, 18, 18, 25, 18, 24, 18, 24, 23]\n",
    "y_pred = [25,  5, 25, 29, 25, 25, 25,  4, 25, 25, 10, 25, 18,  9, 10, 33]\n",
    "num_classes = 34\n",
    "\n",
    "metrics = calculate_metrics(y_true, y_pred, num_classes)\n",
    "for metric, values in metrics.items():\n",
    "    print(metric + \":\", values)\n",
    "\n"
   ]
  },
  {
   "cell_type": "code",
   "execution_count": 37,
   "metadata": {},
   "outputs": [
    {
     "name": "stdout",
     "output_type": "stream",
     "text": [
      "True Positives: [0.0, 0.0, 0.0, 0.0, 0.0, 1.0, 0.0, 0.0, 0.0, 0.0, 0.0, 0.0, 0.0, 0.0, 0.0, 0.0, 0.0, 1.0, 0.0, 0.0, 0.0, 1.0, 0.0, 1.0, 1.0, 1.0, 0.0, 0.0, 0.0, 0.0, 0.0, 0.0, 0.0, 0.0]\n",
      "True Negatives: [6.0, 6.0, 6.0, 6.0, 6.0, 5.0, 6.0, 6.0, 6.0, 6.0, 6.0, 6.0, 6.0, 6.0, 6.0, 6.0, 6.0, 5.0, 6.0, 6.0, 6.0, 5.0, 6.0, 5.0, 5.0, 5.0, 6.0, 6.0, 6.0, 6.0, 6.0, 6.0, 6.0, 6.0]\n",
      "False Positives: [1.0, 0.0, 0.0, 0.0, 0.0, 0.0, 0.0, 0.0, 0.0, 0.0, 0.0, 0.0, 0.0, 0.0, 0.0, 0.0, 0.0, 0.0, 6.0, 0.0, 0.0, 0.0, 0.0, 0.0, 1.0, 1.0, 0.0, 0.0, 0.0, 0.0, 0.0, 0.0, 0.0, 1.0]\n",
      "False Negatives: [0.0, 0.0, 0.0, 0.0, 0.0, 0.0, 0.0, 0.0, 0.0, 1.0, 1.0, 0.0, 0.0, 0.0, 0.0, 0.0, 0.0, 2.0, 0.0, 0.0, 0.0, 0.0, 0.0, 0.0, 1.0, 4.0, 0.0, 0.0, 0.0, 1.0, 0.0, 0.0, 0.0, 0.0]\n",
      "Sensitivity: [0.0, 0.0, 0.0, 0.0, 0.0, 1.0, 0.0, 0.0, 0.0, 0.0, 0.0, 0.0, 0.0, 0.0, 0.0, 0.0, 0.0, 0.3333333432674408, 0.0, 0.0, 0.0, 1.0, 0.0, 1.0, 0.5, 0.20000000298023224, 0.0, 0.0, 0.0, 0.0, 0.0, 0.0, 0.0, 0.0]\n",
      "Specificity: [0.8571428656578064, 1.0, 1.0, 1.0, 1.0, 1.0, 1.0, 1.0, 1.0, 1.0, 1.0, 1.0, 1.0, 1.0, 1.0, 1.0, 1.0, 1.0, 0.5, 1.0, 1.0, 1.0, 1.0, 1.0, 0.8333333134651184, 0.8333333134651184, 1.0, 1.0, 1.0, 1.0, 1.0, 1.0, 1.0, 0.8571428656578064]\n",
      "Accuracy: 0.375\n",
      "Precision: [0.0, 0.0, 0.0, 0.0, 0.0, 1.0, 0.0, 0.0, 0.0, 0.0, 0.0, 0.0, 0.0, 0.0, 0.0, 0.0, 0.0, 1.0, 0.0, 0.0, 0.0, 1.0, 0.0, 1.0, 0.5, 0.5, 0.0, 0.0, 0.0, 0.0, 0.0, 0.0, 0.0, 0.0]\n",
      "Recall: [0.0, 0.0, 0.0, 0.0, 0.0, 1.0, 0.0, 0.0, 0.0, 0.0, 0.0, 0.0, 0.0, 0.0, 0.0, 0.0, 0.0, 0.3333333432674408, 0.0, 0.0, 0.0, 1.0, 0.0, 1.0, 0.5, 0.20000000298023224, 0.0, 0.0, 0.0, 0.0, 0.0, 0.0, 0.0, 0.0]\n",
      "F1 Score: [0.0, 0.0, 0.0, 0.0, 0.0, 1.0, 0.0, 0.0, 0.0, 0.0, 0.0, 0.0, 0.0, 0.0, 0.0, 0.0, 0.0, 0.5, 0.0, 0.0, 0.0, 1.0, 0.0, 1.0, 0.5, 0.2857142984867096, 0.0, 0.0, 0.0, 0.0, 0.0, 0.0, 0.0, 0.0]\n",
      "Confusion Matrix: [[[0.0, 0.0, 0.0, 0.0, 0.0, 1.0, 0.0, 0.0, 0.0, 0.0, 0.0, 0.0, 0.0, 0.0, 0.0, 0.0, 0.0, 1.0, 0.0, 0.0, 0.0, 1.0, 0.0, 1.0, 1.0, 1.0, 0.0, 0.0, 0.0, 0.0, 0.0, 0.0, 0.0, 0.0], [1.0, 0.0, 0.0, 0.0, 0.0, 0.0, 0.0, 0.0, 0.0, 0.0, 0.0, 0.0, 0.0, 0.0, 0.0, 0.0, 0.0, 0.0, 6.0, 0.0, 0.0, 0.0, 0.0, 0.0, 1.0, 1.0, 0.0, 0.0, 0.0, 0.0, 0.0, 0.0, 0.0, 1.0]], [[0.0, 0.0, 0.0, 0.0, 0.0, 0.0, 0.0, 0.0, 0.0, 1.0, 1.0, 0.0, 0.0, 0.0, 0.0, 0.0, 0.0, 2.0, 0.0, 0.0, 0.0, 0.0, 0.0, 0.0, 1.0, 4.0, 0.0, 0.0, 0.0, 1.0, 0.0, 0.0, 0.0, 0.0], [6.0, 6.0, 6.0, 6.0, 6.0, 5.0, 6.0, 6.0, 6.0, 6.0, 6.0, 6.0, 6.0, 6.0, 6.0, 6.0, 6.0, 5.0, 6.0, 6.0, 6.0, 5.0, 6.0, 5.0, 5.0, 5.0, 6.0, 6.0, 6.0, 6.0, 6.0, 6.0, 6.0, 6.0]]]\n",
      "Balanced Accuracy: 0.5428571105003357\n"
     ]
    }
   ],
   "source": [
    "import torch\n",
    "\n",
    "def calculate_metrics(y_true, y_pred, num_classes):\n",
    "    true_positives = torch.zeros(num_classes)\n",
    "    true_negatives = torch.zeros(num_classes)\n",
    "    false_positives = torch.zeros(num_classes)\n",
    "    false_negatives = torch.zeros(num_classes)\n",
    "    \n",
    "    for true_label, pred_label in zip(y_true, y_pred):\n",
    "        if 0 <= pred_label < num_classes:\n",
    "            if true_label == pred_label:\n",
    "                true_positives[true_label] += 1\n",
    "                for i in range(num_classes):\n",
    "                    if i != true_label:\n",
    "                        true_negatives[i] += 1\n",
    "            else:\n",
    "                false_positives[pred_label] += 1\n",
    "                false_negatives[true_label] += 1\n",
    "    \n",
    "    sensitivity = true_positives / (true_positives + false_negatives).clamp(min=1e-6)\n",
    "    specificity = true_negatives / (true_negatives + false_positives).clamp(min=1e-6)\n",
    "    \n",
    "    accuracy = true_positives.sum() / len(y_true)\n",
    "    \n",
    "    precision = true_positives / (true_positives + false_positives).clamp(min=1e-6)\n",
    "    recall = sensitivity\n",
    "    f1_score = 2 * (precision * recall) / (precision + recall).clamp(min=1e-6)\n",
    "    \n",
    "    confusion_matrix = torch.stack([\n",
    "        torch.stack([true_positives, false_positives]),\n",
    "        torch.stack([false_negatives, true_negatives])\n",
    "    ])\n",
    "    \n",
    "    balanced_accuracy = ((sensitivity + specificity) / 2).sum() / num_classes\n",
    "    \n",
    "    return {\n",
    "        \"True Positives\": true_positives.tolist(),\n",
    "        \"True Negatives\": true_negatives.tolist(),\n",
    "        \"False Positives\": false_positives.tolist(),\n",
    "        \"False Negatives\": false_negatives.tolist(),\n",
    "        \"Sensitivity\": sensitivity.tolist(),\n",
    "        \"Specificity\": specificity.tolist(),\n",
    "        \"Accuracy\": accuracy.item(),\n",
    "        \"Precision\": precision.tolist(),\n",
    "        \"Recall\": recall.tolist(),\n",
    "        \"F1 Score\": f1_score.tolist(),\n",
    "        \"Confusion Matrix\": confusion_matrix.tolist(),\n",
    "        \"Balanced Accuracy\": balanced_accuracy.item()\n",
    "    }\n",
    "\n",
    "# Example data\n",
    "y_true = [17, 25, 25, 9, 5, 21, 17, 29, 25, 10, 17, 25, 25, 24, 24, 23]\n",
    "y_pred = [17, 18, 25, 33, 5, 21, 18, 0, 18, 18, 25, 18, 24, 18, 24, 23]\n",
    "num_classes = 34\n",
    "\n",
    "metrics = calculate_metrics(y_true, y_pred, num_classes)\n",
    "for metric, values in metrics.items():\n",
    "    print(metric + \":\", values)"
   ]
  },
  {
   "cell_type": "code",
   "execution_count": 38,
   "metadata": {},
   "outputs": [
    {
     "name": "stderr",
     "output_type": "stream",
     "text": [
      "/home/sur06423/miniconda3/envs/vi_trans/lib/python3.10/site-packages/sklearn/metrics/_classification.py:2394: UserWarning: y_pred contains classes not in y_true\n",
      "  warnings.warn(\"y_pred contains classes not in y_true\")\n"
     ]
    },
    {
     "data": {
      "text/plain": [
       "(0.375, 0.44814814814814813)"
      ]
     },
     "execution_count": 38,
     "metadata": {},
     "output_type": "execute_result"
    }
   ],
   "source": [
    "from sklearn.metrics import accuracy_score, balanced_accuracy_score\n",
    "# random_ground_truth_numpy, prediction_batch_cpu.numpy()\n",
    "y_true_sk = [17, 25, 25, 9, 5, 21, 17, 29, 25, 10, 17, 25, 25, 24, 24, 23]\n",
    "y_pred_sk = [17, 18, 25, 33, 5, 21, 18, 0, 18, 18, 25, 18, 24, 18, 24, 23]\n",
    "acc = accuracy_score(y_true_sk, y_pred_sk)\n",
    "bal_acc = balanced_accuracy_score(y_true_sk, y_pred_sk)\n",
    "acc, bal_acc"
   ]
  },
  {
   "cell_type": "code",
   "execution_count": null,
   "metadata": {},
   "outputs": [],
   "source": []
  },
  {
   "cell_type": "code",
   "execution_count": 39,
   "metadata": {},
   "outputs": [
    {
     "ename": "TypeError",
     "evalue": "softmax() received an invalid combination of arguments - got (list, dim=int), but expected one of:\n * (Tensor input, int dim, torch.dtype dtype, *, Tensor out)\n * (Tensor input, name dim, *, torch.dtype dtype)\n",
     "output_type": "error",
     "traceback": [
      "\u001b[0;31m---------------------------------------------------------------------------\u001b[0m",
      "\u001b[0;31mTypeError\u001b[0m                                 Traceback (most recent call last)",
      "Cell \u001b[0;32mIn[39], line 1\u001b[0m\n\u001b[0;32m----> 1\u001b[0m y_pred_class \u001b[39m=\u001b[39m torch\u001b[39m.\u001b[39margmax(torch\u001b[39m.\u001b[39;49msoftmax(y_pred, dim\u001b[39m=\u001b[39;49m\u001b[39m1\u001b[39;49m), dim\u001b[39m=\u001b[39m\u001b[39m1\u001b[39m)\n\u001b[1;32m      2\u001b[0m train_acc \u001b[39m+\u001b[39m\u001b[39m=\u001b[39m (y_pred_class \u001b[39m==\u001b[39m y)\u001b[39m.\u001b[39msum()\u001b[39m.\u001b[39mitem()\u001b[39m/\u001b[39m\u001b[39mlen\u001b[39m(y_pred)\n",
      "\u001b[0;31mTypeError\u001b[0m: softmax() received an invalid combination of arguments - got (list, dim=int), but expected one of:\n * (Tensor input, int dim, torch.dtype dtype, *, Tensor out)\n * (Tensor input, name dim, *, torch.dtype dtype)\n"
     ]
    }
   ],
   "source": [
    "y_pred_class = torch.argmax(torch.softmax(y_pred, dim=1), dim=1)\n",
    "train_acc += (y_pred_class == y).sum().item()/len(y_pred)"
   ]
  },
  {
   "cell_type": "code",
   "execution_count": null,
   "metadata": {},
   "outputs": [
    {
     "ename": "ValueError",
     "evalue": "Classification metrics can't handle a mix of multiclass-multioutput and continuous-multioutput targets",
     "output_type": "error",
     "traceback": [
      "\u001b[0;31m---------------------------------------------------------------------------\u001b[0m",
      "\u001b[0;31mValueError\u001b[0m                                Traceback (most recent call last)",
      "Cell \u001b[0;32mIn[31], line 14\u001b[0m\n\u001b[1;32m     11\u001b[0m random_ground_truth_numpy \u001b[39m=\u001b[39m random_ground_truth\u001b[39m.\u001b[39mnumpy() \u001b[39mif\u001b[39;00m \u001b[39misinstance\u001b[39m(random_ground_truth, torch\u001b[39m.\u001b[39mTensor) \u001b[39melse\u001b[39;00m random_ground_truth\n\u001b[1;32m     13\u001b[0m \u001b[39m# Calculate accuracy using sklearn metrics\u001b[39;00m\n\u001b[0;32m---> 14\u001b[0m acc_sk \u001b[39m=\u001b[39m accuracy_score(random_ground_truth_numpy, prediction_cpu\u001b[39m.\u001b[39;49mnumpy()) \u001b[39m# prediction_cpu.argmax(dim=1).numpy()\u001b[39;00m\n\u001b[1;32m     15\u001b[0m \u001b[39mprint\u001b[39m(\u001b[39mf\u001b[39m\u001b[39m\"\u001b[39m\u001b[39mThe accuracy score according to sklearn metrics is \u001b[39m\u001b[39m{\u001b[39;00macc_sk\u001b[39m}\u001b[39;00m\u001b[39m\"\u001b[39m)\n",
      "File \u001b[0;32m~/miniconda3/envs/vi_trans/lib/python3.10/site-packages/sklearn/utils/_param_validation.py:211\u001b[0m, in \u001b[0;36mvalidate_params.<locals>.decorator.<locals>.wrapper\u001b[0;34m(*args, **kwargs)\u001b[0m\n\u001b[1;32m    205\u001b[0m \u001b[39mtry\u001b[39;00m:\n\u001b[1;32m    206\u001b[0m     \u001b[39mwith\u001b[39;00m config_context(\n\u001b[1;32m    207\u001b[0m         skip_parameter_validation\u001b[39m=\u001b[39m(\n\u001b[1;32m    208\u001b[0m             prefer_skip_nested_validation \u001b[39mor\u001b[39;00m global_skip_validation\n\u001b[1;32m    209\u001b[0m         )\n\u001b[1;32m    210\u001b[0m     ):\n\u001b[0;32m--> 211\u001b[0m         \u001b[39mreturn\u001b[39;00m func(\u001b[39m*\u001b[39;49margs, \u001b[39m*\u001b[39;49m\u001b[39m*\u001b[39;49mkwargs)\n\u001b[1;32m    212\u001b[0m \u001b[39mexcept\u001b[39;00m InvalidParameterError \u001b[39mas\u001b[39;00m e:\n\u001b[1;32m    213\u001b[0m     \u001b[39m# When the function is just a wrapper around an estimator, we allow\u001b[39;00m\n\u001b[1;32m    214\u001b[0m     \u001b[39m# the function to delegate validation to the estimator, but we replace\u001b[39;00m\n\u001b[1;32m    215\u001b[0m     \u001b[39m# the name of the estimator by the name of the function in the error\u001b[39;00m\n\u001b[1;32m    216\u001b[0m     \u001b[39m# message to avoid confusion.\u001b[39;00m\n\u001b[1;32m    217\u001b[0m     msg \u001b[39m=\u001b[39m re\u001b[39m.\u001b[39msub(\n\u001b[1;32m    218\u001b[0m         \u001b[39mr\u001b[39m\u001b[39m\"\u001b[39m\u001b[39mparameter of \u001b[39m\u001b[39m\\\u001b[39m\u001b[39mw+ must be\u001b[39m\u001b[39m\"\u001b[39m,\n\u001b[1;32m    219\u001b[0m         \u001b[39mf\u001b[39m\u001b[39m\"\u001b[39m\u001b[39mparameter of \u001b[39m\u001b[39m{\u001b[39;00mfunc\u001b[39m.\u001b[39m\u001b[39m__qualname__\u001b[39m\u001b[39m}\u001b[39;00m\u001b[39m must be\u001b[39m\u001b[39m\"\u001b[39m,\n\u001b[1;32m    220\u001b[0m         \u001b[39mstr\u001b[39m(e),\n\u001b[1;32m    221\u001b[0m     )\n",
      "File \u001b[0;32m~/miniconda3/envs/vi_trans/lib/python3.10/site-packages/sklearn/metrics/_classification.py:220\u001b[0m, in \u001b[0;36maccuracy_score\u001b[0;34m(y_true, y_pred, normalize, sample_weight)\u001b[0m\n\u001b[1;32m    154\u001b[0m \u001b[39m\u001b[39m\u001b[39m\"\"\"Accuracy classification score.\u001b[39;00m\n\u001b[1;32m    155\u001b[0m \n\u001b[1;32m    156\u001b[0m \u001b[39mIn multilabel classification, this function computes subset accuracy:\u001b[39;00m\n\u001b[0;32m   (...)\u001b[0m\n\u001b[1;32m    216\u001b[0m \u001b[39m0.5\u001b[39;00m\n\u001b[1;32m    217\u001b[0m \u001b[39m\"\"\"\u001b[39;00m\n\u001b[1;32m    219\u001b[0m \u001b[39m# Compute accuracy for each possible representation\u001b[39;00m\n\u001b[0;32m--> 220\u001b[0m y_type, y_true, y_pred \u001b[39m=\u001b[39m _check_targets(y_true, y_pred)\n\u001b[1;32m    221\u001b[0m check_consistent_length(y_true, y_pred, sample_weight)\n\u001b[1;32m    222\u001b[0m \u001b[39mif\u001b[39;00m y_type\u001b[39m.\u001b[39mstartswith(\u001b[39m\"\u001b[39m\u001b[39mmultilabel\u001b[39m\u001b[39m\"\u001b[39m):\n",
      "File \u001b[0;32m~/miniconda3/envs/vi_trans/lib/python3.10/site-packages/sklearn/metrics/_classification.py:93\u001b[0m, in \u001b[0;36m_check_targets\u001b[0;34m(y_true, y_pred)\u001b[0m\n\u001b[1;32m     90\u001b[0m     y_type \u001b[39m=\u001b[39m {\u001b[39m\"\u001b[39m\u001b[39mmulticlass\u001b[39m\u001b[39m\"\u001b[39m}\n\u001b[1;32m     92\u001b[0m \u001b[39mif\u001b[39;00m \u001b[39mlen\u001b[39m(y_type) \u001b[39m>\u001b[39m \u001b[39m1\u001b[39m:\n\u001b[0;32m---> 93\u001b[0m     \u001b[39mraise\u001b[39;00m \u001b[39mValueError\u001b[39;00m(\n\u001b[1;32m     94\u001b[0m         \u001b[39m\"\u001b[39m\u001b[39mClassification metrics can\u001b[39m\u001b[39m'\u001b[39m\u001b[39mt handle a mix of \u001b[39m\u001b[39m{0}\u001b[39;00m\u001b[39m and \u001b[39m\u001b[39m{1}\u001b[39;00m\u001b[39m targets\u001b[39m\u001b[39m\"\u001b[39m\u001b[39m.\u001b[39mformat(\n\u001b[1;32m     95\u001b[0m             type_true, type_pred\n\u001b[1;32m     96\u001b[0m         )\n\u001b[1;32m     97\u001b[0m     )\n\u001b[1;32m     99\u001b[0m \u001b[39m# We can't have more than one value on y_type => The set is no more needed\u001b[39;00m\n\u001b[1;32m    100\u001b[0m y_type \u001b[39m=\u001b[39m y_type\u001b[39m.\u001b[39mpop()\n",
      "\u001b[0;31mValueError\u001b[0m: Classification metrics can't handle a mix of multiclass-multioutput and continuous-multioutput targets"
     ]
    }
   ],
   "source": [
    "import torch\n",
    "from sklearn.metrics import accuracy_score, balanced_accuracy_score\n",
    "\n",
    "# Assuming `random_ground_truth` is a numpy array or tensor containing ground truth labels\n",
    "\n",
    "# Move prediction tensor to CPU\n",
    "prediction_cpu = prediction.detach().cpu()\n",
    "prediction_cpu = torch.softmax(prediction_cpu, dim=1)\n",
    "\n",
    "# Convert tensors to numpy arrays if needed\n",
    "random_ground_truth_numpy = random_ground_truth.numpy() if isinstance(random_ground_truth, torch.Tensor) else random_ground_truth\n",
    "\n",
    "# Calculate accuracy using sklearn metrics\n",
    "acc_sk = accuracy_score(random_ground_truth_numpy, prediction_cpu.numpy()) # prediction_cpu.argmax(dim=1).numpy()\n",
    "print(f\"The accuracy score according to sklearn metrics is {acc_sk}\")\n",
    "\n"
   ]
  },
  {
   "cell_type": "code",
   "execution_count": null,
   "metadata": {},
   "outputs": [
    {
     "ename": "TypeError",
     "evalue": "can't convert cuda:0 device type tensor to numpy. Use Tensor.cpu() to copy the tensor to host memory first.",
     "output_type": "error",
     "traceback": [
      "\u001b[0;31m---------------------------------------------------------------------------\u001b[0m",
      "\u001b[0;31mTypeError\u001b[0m                                 Traceback (most recent call last)",
      "Cell \u001b[0;32mIn[25], line 2\u001b[0m\n\u001b[1;32m      1\u001b[0m \u001b[39mfrom\u001b[39;00m \u001b[39msklearn\u001b[39;00m\u001b[39m.\u001b[39;00m\u001b[39mmetrics\u001b[39;00m \u001b[39mimport\u001b[39;00m accuracy_score, balanced_accuracy_score\n\u001b[0;32m----> 2\u001b[0m acc_sk \u001b[39m=\u001b[39m accuracy_score(random_ground_truth, prediction)\n\u001b[1;32m      3\u001b[0m \u001b[39mprint\u001b[39m(\u001b[39mf\u001b[39m\u001b[39m\"\u001b[39m\u001b[39mThe accuracy score according to sklearn metrics is  \u001b[39m\u001b[39m{\u001b[39;00macc_sk\u001b[39m}\u001b[39;00m\u001b[39m\"\u001b[39m)\n",
      "File \u001b[0;32m~/miniconda3/envs/vi_trans/lib/python3.10/site-packages/sklearn/utils/_param_validation.py:211\u001b[0m, in \u001b[0;36mvalidate_params.<locals>.decorator.<locals>.wrapper\u001b[0;34m(*args, **kwargs)\u001b[0m\n\u001b[1;32m    205\u001b[0m \u001b[39mtry\u001b[39;00m:\n\u001b[1;32m    206\u001b[0m     \u001b[39mwith\u001b[39;00m config_context(\n\u001b[1;32m    207\u001b[0m         skip_parameter_validation\u001b[39m=\u001b[39m(\n\u001b[1;32m    208\u001b[0m             prefer_skip_nested_validation \u001b[39mor\u001b[39;00m global_skip_validation\n\u001b[1;32m    209\u001b[0m         )\n\u001b[1;32m    210\u001b[0m     ):\n\u001b[0;32m--> 211\u001b[0m         \u001b[39mreturn\u001b[39;00m func(\u001b[39m*\u001b[39;49margs, \u001b[39m*\u001b[39;49m\u001b[39m*\u001b[39;49mkwargs)\n\u001b[1;32m    212\u001b[0m \u001b[39mexcept\u001b[39;00m InvalidParameterError \u001b[39mas\u001b[39;00m e:\n\u001b[1;32m    213\u001b[0m     \u001b[39m# When the function is just a wrapper around an estimator, we allow\u001b[39;00m\n\u001b[1;32m    214\u001b[0m     \u001b[39m# the function to delegate validation to the estimator, but we replace\u001b[39;00m\n\u001b[1;32m    215\u001b[0m     \u001b[39m# the name of the estimator by the name of the function in the error\u001b[39;00m\n\u001b[1;32m    216\u001b[0m     \u001b[39m# message to avoid confusion.\u001b[39;00m\n\u001b[1;32m    217\u001b[0m     msg \u001b[39m=\u001b[39m re\u001b[39m.\u001b[39msub(\n\u001b[1;32m    218\u001b[0m         \u001b[39mr\u001b[39m\u001b[39m\"\u001b[39m\u001b[39mparameter of \u001b[39m\u001b[39m\\\u001b[39m\u001b[39mw+ must be\u001b[39m\u001b[39m\"\u001b[39m,\n\u001b[1;32m    219\u001b[0m         \u001b[39mf\u001b[39m\u001b[39m\"\u001b[39m\u001b[39mparameter of \u001b[39m\u001b[39m{\u001b[39;00mfunc\u001b[39m.\u001b[39m\u001b[39m__qualname__\u001b[39m\u001b[39m}\u001b[39;00m\u001b[39m must be\u001b[39m\u001b[39m\"\u001b[39m,\n\u001b[1;32m    220\u001b[0m         \u001b[39mstr\u001b[39m(e),\n\u001b[1;32m    221\u001b[0m     )\n",
      "File \u001b[0;32m~/miniconda3/envs/vi_trans/lib/python3.10/site-packages/sklearn/metrics/_classification.py:220\u001b[0m, in \u001b[0;36maccuracy_score\u001b[0;34m(y_true, y_pred, normalize, sample_weight)\u001b[0m\n\u001b[1;32m    154\u001b[0m \u001b[39m\u001b[39m\u001b[39m\"\"\"Accuracy classification score.\u001b[39;00m\n\u001b[1;32m    155\u001b[0m \n\u001b[1;32m    156\u001b[0m \u001b[39mIn multilabel classification, this function computes subset accuracy:\u001b[39;00m\n\u001b[0;32m   (...)\u001b[0m\n\u001b[1;32m    216\u001b[0m \u001b[39m0.5\u001b[39;00m\n\u001b[1;32m    217\u001b[0m \u001b[39m\"\"\"\u001b[39;00m\n\u001b[1;32m    219\u001b[0m \u001b[39m# Compute accuracy for each possible representation\u001b[39;00m\n\u001b[0;32m--> 220\u001b[0m y_type, y_true, y_pred \u001b[39m=\u001b[39m _check_targets(y_true, y_pred)\n\u001b[1;32m    221\u001b[0m check_consistent_length(y_true, y_pred, sample_weight)\n\u001b[1;32m    222\u001b[0m \u001b[39mif\u001b[39;00m y_type\u001b[39m.\u001b[39mstartswith(\u001b[39m\"\u001b[39m\u001b[39mmultilabel\u001b[39m\u001b[39m\"\u001b[39m):\n",
      "File \u001b[0;32m~/miniconda3/envs/vi_trans/lib/python3.10/site-packages/sklearn/metrics/_classification.py:86\u001b[0m, in \u001b[0;36m_check_targets\u001b[0;34m(y_true, y_pred)\u001b[0m\n\u001b[1;32m     84\u001b[0m check_consistent_length(y_true, y_pred)\n\u001b[1;32m     85\u001b[0m type_true \u001b[39m=\u001b[39m type_of_target(y_true, input_name\u001b[39m=\u001b[39m\u001b[39m\"\u001b[39m\u001b[39my_true\u001b[39m\u001b[39m\"\u001b[39m)\n\u001b[0;32m---> 86\u001b[0m type_pred \u001b[39m=\u001b[39m type_of_target(y_pred, input_name\u001b[39m=\u001b[39;49m\u001b[39m\"\u001b[39;49m\u001b[39my_pred\u001b[39;49m\u001b[39m\"\u001b[39;49m)\n\u001b[1;32m     88\u001b[0m y_type \u001b[39m=\u001b[39m {type_true, type_pred}\n\u001b[1;32m     89\u001b[0m \u001b[39mif\u001b[39;00m y_type \u001b[39m==\u001b[39m {\u001b[39m\"\u001b[39m\u001b[39mbinary\u001b[39m\u001b[39m\"\u001b[39m, \u001b[39m\"\u001b[39m\u001b[39mmulticlass\u001b[39m\u001b[39m\"\u001b[39m}:\n",
      "File \u001b[0;32m~/miniconda3/envs/vi_trans/lib/python3.10/site-packages/sklearn/utils/multiclass.py:310\u001b[0m, in \u001b[0;36mtype_of_target\u001b[0;34m(y, input_name)\u001b[0m\n\u001b[1;32m    307\u001b[0m \u001b[39mif\u001b[39;00m sparse_pandas:\n\u001b[1;32m    308\u001b[0m     \u001b[39mraise\u001b[39;00m \u001b[39mValueError\u001b[39;00m(\u001b[39m\"\u001b[39m\u001b[39my cannot be class \u001b[39m\u001b[39m'\u001b[39m\u001b[39mSparseSeries\u001b[39m\u001b[39m'\u001b[39m\u001b[39m or \u001b[39m\u001b[39m'\u001b[39m\u001b[39mSparseArray\u001b[39m\u001b[39m'\u001b[39m\u001b[39m\"\u001b[39m)\n\u001b[0;32m--> 310\u001b[0m \u001b[39mif\u001b[39;00m is_multilabel(y):\n\u001b[1;32m    311\u001b[0m     \u001b[39mreturn\u001b[39;00m \u001b[39m\"\u001b[39m\u001b[39mmultilabel-indicator\u001b[39m\u001b[39m\"\u001b[39m\n\u001b[1;32m    313\u001b[0m \u001b[39m# DeprecationWarning will be replaced by ValueError, see NEP 34\u001b[39;00m\n\u001b[1;32m    314\u001b[0m \u001b[39m# https://numpy.org/neps/nep-0034-infer-dtype-is-object.html\u001b[39;00m\n\u001b[1;32m    315\u001b[0m \u001b[39m# We therefore catch both deprecation (NumPy < 1.24) warning and\u001b[39;00m\n\u001b[1;32m    316\u001b[0m \u001b[39m# value error (NumPy >= 1.24).\u001b[39;00m\n",
      "File \u001b[0;32m~/miniconda3/envs/vi_trans/lib/python3.10/site-packages/sklearn/utils/multiclass.py:166\u001b[0m, in \u001b[0;36mis_multilabel\u001b[0;34m(y)\u001b[0m\n\u001b[1;32m    164\u001b[0m warnings\u001b[39m.\u001b[39msimplefilter(\u001b[39m\"\u001b[39m\u001b[39merror\u001b[39m\u001b[39m\"\u001b[39m, np\u001b[39m.\u001b[39mVisibleDeprecationWarning)\n\u001b[1;32m    165\u001b[0m \u001b[39mtry\u001b[39;00m:\n\u001b[0;32m--> 166\u001b[0m     y \u001b[39m=\u001b[39m check_array(y, dtype\u001b[39m=\u001b[39;49m\u001b[39mNone\u001b[39;49;00m, \u001b[39m*\u001b[39;49m\u001b[39m*\u001b[39;49mcheck_y_kwargs)\n\u001b[1;32m    167\u001b[0m \u001b[39mexcept\u001b[39;00m (np\u001b[39m.\u001b[39mVisibleDeprecationWarning, \u001b[39mValueError\u001b[39;00m) \u001b[39mas\u001b[39;00m e:\n\u001b[1;32m    168\u001b[0m     \u001b[39mif\u001b[39;00m \u001b[39mstr\u001b[39m(e)\u001b[39m.\u001b[39mstartswith(\u001b[39m\"\u001b[39m\u001b[39mComplex data not supported\u001b[39m\u001b[39m\"\u001b[39m):\n",
      "File \u001b[0;32m~/miniconda3/envs/vi_trans/lib/python3.10/site-packages/sklearn/utils/validation.py:917\u001b[0m, in \u001b[0;36mcheck_array\u001b[0;34m(array, accept_sparse, accept_large_sparse, dtype, order, copy, force_all_finite, ensure_2d, allow_nd, ensure_min_samples, ensure_min_features, estimator, input_name)\u001b[0m\n\u001b[1;32m    915\u001b[0m         array \u001b[39m=\u001b[39m xp\u001b[39m.\u001b[39mastype(array, dtype, copy\u001b[39m=\u001b[39m\u001b[39mFalse\u001b[39;00m)\n\u001b[1;32m    916\u001b[0m     \u001b[39melse\u001b[39;00m:\n\u001b[0;32m--> 917\u001b[0m         array \u001b[39m=\u001b[39m _asarray_with_order(array, order\u001b[39m=\u001b[39;49morder, dtype\u001b[39m=\u001b[39;49mdtype, xp\u001b[39m=\u001b[39;49mxp)\n\u001b[1;32m    918\u001b[0m \u001b[39mexcept\u001b[39;00m ComplexWarning \u001b[39mas\u001b[39;00m complex_warning:\n\u001b[1;32m    919\u001b[0m     \u001b[39mraise\u001b[39;00m \u001b[39mValueError\u001b[39;00m(\n\u001b[1;32m    920\u001b[0m         \u001b[39m\"\u001b[39m\u001b[39mComplex data not supported\u001b[39m\u001b[39m\\n\u001b[39;00m\u001b[39m{}\u001b[39;00m\u001b[39m\\n\u001b[39;00m\u001b[39m\"\u001b[39m\u001b[39m.\u001b[39mformat(array)\n\u001b[1;32m    921\u001b[0m     ) \u001b[39mfrom\u001b[39;00m \u001b[39mcomplex_warning\u001b[39;00m\n",
      "File \u001b[0;32m~/miniconda3/envs/vi_trans/lib/python3.10/site-packages/sklearn/utils/_array_api.py:380\u001b[0m, in \u001b[0;36m_asarray_with_order\u001b[0;34m(array, dtype, order, copy, xp)\u001b[0m\n\u001b[1;32m    378\u001b[0m     array \u001b[39m=\u001b[39m numpy\u001b[39m.\u001b[39marray(array, order\u001b[39m=\u001b[39morder, dtype\u001b[39m=\u001b[39mdtype)\n\u001b[1;32m    379\u001b[0m \u001b[39melse\u001b[39;00m:\n\u001b[0;32m--> 380\u001b[0m     array \u001b[39m=\u001b[39m numpy\u001b[39m.\u001b[39;49masarray(array, order\u001b[39m=\u001b[39;49morder, dtype\u001b[39m=\u001b[39;49mdtype)\n\u001b[1;32m    382\u001b[0m \u001b[39m# At this point array is a NumPy ndarray. We convert it to an array\u001b[39;00m\n\u001b[1;32m    383\u001b[0m \u001b[39m# container that is consistent with the input's namespace.\u001b[39;00m\n\u001b[1;32m    384\u001b[0m \u001b[39mreturn\u001b[39;00m xp\u001b[39m.\u001b[39masarray(array)\n",
      "File \u001b[0;32m~/miniconda3/envs/vi_trans/lib/python3.10/site-packages/torch/_tensor.py:956\u001b[0m, in \u001b[0;36mTensor.__array__\u001b[0;34m(self, dtype)\u001b[0m\n\u001b[1;32m    954\u001b[0m     \u001b[39mreturn\u001b[39;00m handle_torch_function(Tensor\u001b[39m.\u001b[39m__array__, (\u001b[39mself\u001b[39m,), \u001b[39mself\u001b[39m, dtype\u001b[39m=\u001b[39mdtype)\n\u001b[1;32m    955\u001b[0m \u001b[39mif\u001b[39;00m dtype \u001b[39mis\u001b[39;00m \u001b[39mNone\u001b[39;00m:\n\u001b[0;32m--> 956\u001b[0m     \u001b[39mreturn\u001b[39;00m \u001b[39mself\u001b[39;49m\u001b[39m.\u001b[39;49mnumpy()\n\u001b[1;32m    957\u001b[0m \u001b[39melse\u001b[39;00m:\n\u001b[1;32m    958\u001b[0m     \u001b[39mreturn\u001b[39;00m \u001b[39mself\u001b[39m\u001b[39m.\u001b[39mnumpy()\u001b[39m.\u001b[39mastype(dtype, copy\u001b[39m=\u001b[39m\u001b[39mFalse\u001b[39;00m)\n",
      "\u001b[0;31mTypeError\u001b[0m: can't convert cuda:0 device type tensor to numpy. Use Tensor.cpu() to copy the tensor to host memory first."
     ]
    }
   ],
   "source": [
    "from sklearn.metrics import accuracy_score, balanced_accuracy_score\n",
    "acc_sk = accuracy_score(random_ground_truth, prediction)\n",
    "print(f\"The accuracy score according to sklearn metrics is  {acc_sk}\")"
   ]
  },
  {
   "cell_type": "code",
   "execution_count": null,
   "metadata": {},
   "outputs": [],
   "source": []
  },
  {
   "cell_type": "code",
   "execution_count": null,
   "metadata": {},
   "outputs": [],
   "source": []
  },
  {
   "cell_type": "code",
   "execution_count": null,
   "metadata": {},
   "outputs": [],
   "source": []
  }
 ],
 "metadata": {
  "kernelspec": {
   "display_name": "vi_trans",
   "language": "python",
   "name": "python3"
  },
  "language_info": {
   "codemirror_mode": {
    "name": "ipython",
    "version": 3
   },
   "file_extension": ".py",
   "mimetype": "text/x-python",
   "name": "python",
   "nbconvert_exporter": "python",
   "pygments_lexer": "ipython3",
   "version": "3.10.12"
  },
  "orig_nbformat": 4
 },
 "nbformat": 4,
 "nbformat_minor": 2
}
