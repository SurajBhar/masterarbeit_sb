{
 "cells": [
  {
   "cell_type": "markdown",
   "metadata": {},
   "source": [
    " closing_bottle         drinking       fastening_seat_belt                          opening_bottle         placing_an_object              putting_on_jacket       sitting_still                 talking_on_phone           writing\n",
    " closing_door_inside    eating         fetching_an_object                           opening_door_inside    preparing_food                 putting_on_sunglasses   taking_laptop_from_backpack   unfastening_seat_belt\n",
    " closing_door_outside   entering_car   interacting_with_phone                       opening_door_outside   pressing_automation_button     reading_magazine        taking_off_jacket             using_multimedia_display\n",
    " closing_laptop         exiting_car   'looking_or_moving_around (e.g. searching)'   opening_laptop         putting_laptop_into_backpack   reading_newspaper       taking_off_sunglasses         working_on_laptop"
   ]
  },
  {
   "cell_type": "code",
   "execution_count": 1,
   "metadata": {},
   "outputs": [],
   "source": [
    "train_dir = \"/net/polaris/storage/deeplearning/sur_data/kinect_ir_daa/split_2/train\"\n",
    "val_dir = \"/net/polaris/storage/deeplearning/sur_data/kinect_ir_daa/split_2/val\"\n",
    "test_dir = \"/net/polaris/storage/deeplearning/sur_data/kinect_ir_daa/split_2/test\""
   ]
  },
  {
   "cell_type": "code",
   "execution_count": 2,
   "metadata": {},
   "outputs": [],
   "source": [
    "import os\n",
    "\n",
    "def count_images(directory):\n",
    "    extensions = ('.jpg', '.jpeg', '.png', '.gif')  # Add or remove extensions as needed\n",
    "    num_images = 0\n",
    "    for root, dirs, files in os.walk(directory):\n",
    "        num_images += sum(1 for file in files if file.lower().endswith(extensions))\n",
    "    return num_images"
   ]
  },
  {
   "cell_type": "code",
   "execution_count": 3,
   "metadata": {},
   "outputs": [
    {
     "name": "stdout",
     "output_type": "stream",
     "text": [
      "Number of images in KIR Split_2 train directory: 299647\n",
      "Number of images in KIR Split_2 val directory: 61803\n",
      "Number of images in KIR Split_2 test directory: 99467\n"
     ]
    }
   ],
   "source": [
    "print(f\"Number of images in KIR Split_2 train directory: {count_images(train_dir)}\")\n",
    "print(f\"Number of images in KIR Split_2 val directory: {count_images(val_dir)}\")\n",
    "print(f\"Number of images in KIR Split_2 test directory: {count_images(test_dir)}\")"
   ]
  },
  {
   "cell_type": "code",
   "execution_count": 4,
   "metadata": {},
   "outputs": [],
   "source": [
    "new_train_dir = \"/net/polaris/storage/deeplearning/sur_data/binary_kinect_ir_daa/split_2/train\"\n",
    "new_val_dir = \"/net/polaris/storage/deeplearning/sur_data/binary_kinect_ir_daa/split_2/val\"\n",
    "new_test_dir = \"/net/polaris/storage/deeplearning/sur_data/binary_kinect_ir_daa/split_2/test\""
   ]
  },
  {
   "cell_type": "code",
   "execution_count": 5,
   "metadata": {},
   "outputs": [],
   "source": [
    "import os\n",
    "import pathlib\n",
    "from concurrent.futures import ProcessPoolExecutor\n",
    "from shutil import copy2\n",
    "from typing import Tuple\n",
    "\n",
    "class BinaryImageOrganizer:\n",
    "    def __init__(self, source_dir: str, target_dir: str) -> None:\n",
    "        self.source_dir = source_dir\n",
    "        self.target_dir = target_dir\n",
    "        self.non_distracted_classes = {'sitting_still', 'entering_car', 'exiting_car'}\n",
    "        self.setup_directories()\n",
    "        # Initialize counters for image filenames\n",
    "        self.image_counters = {\n",
    "            '_non_distracted': 0,\n",
    "            'distracted': 0\n",
    "        }\n",
    "\n",
    "    def setup_directories(self):\n",
    "        os.makedirs(self.target_dir, exist_ok=True)\n",
    "        os.makedirs(os.path.join(self.target_dir, '_non_distracted'), exist_ok=True)\n",
    "        os.makedirs(os.path.join(self.target_dir, 'distracted'), exist_ok=True)\n",
    "\n",
    "    def is_non_distracted(self, class_name: str) -> bool:\n",
    "        return class_name in self.non_distracted_classes\n",
    "\n",
    "    def process_image(self, image_path: pathlib.Path) -> Tuple[str, str]:\n",
    "        class_name = image_path.parent.parent.name\n",
    "        binary_folder = '_non_distracted' if self.is_non_distracted(class_name) else 'distracted'\n",
    "        target_folder = os.path.join(self.target_dir, binary_folder)\n",
    "        # Increment the counter for the appropriate class and format the filename\n",
    "        self.image_counters[binary_folder] += 1\n",
    "        new_filename = f\"img_{self.image_counters[binary_folder]:06d}.png\"\n",
    "        return str(image_path), os.path.join(target_folder, new_filename)\n",
    "\n",
    "    def copy_images(self, image_paths):\n",
    "        for src, dest in image_paths:\n",
    "            try:\n",
    "                copy2(src, dest)\n",
    "            except Exception as e:\n",
    "                print(f\"Failed to copy {src} to {dest}: {e}\")\n",
    "\n",
    "    def organize_images(self):\n",
    "        paths = list(pathlib.Path(self.source_dir).glob(\"*/*/*.png\"))\n",
    "        image_tasks = [self.process_image(path) for path in paths]\n",
    "        \n",
    "        # Split tasks for multiprocessing\n",
    "        chunk_size = len(image_tasks) // os.cpu_count() + 1\n",
    "        chunks = [image_tasks[i:i + chunk_size] for i in range(0, len(image_tasks), chunk_size)]\n",
    "\n",
    "        with ProcessPoolExecutor() as executor:\n",
    "            executor.map(self.copy_images, chunks)\n"
   ]
  },
  {
   "cell_type": "code",
   "execution_count": 6,
   "metadata": {},
   "outputs": [],
   "source": [
    "# Split 2 RGB : Validation dataset\n",
    "organizer = BinaryImageOrganizer(\n",
    "    source_dir= val_dir,\n",
    "    target_dir= new_val_dir\n",
    ")\n",
    "organizer.organize_images()"
   ]
  },
  {
   "cell_type": "code",
   "execution_count": 7,
   "metadata": {},
   "outputs": [],
   "source": [
    "# Split 2 RGB : Train dataset\n",
    "organizer = BinaryImageOrganizer(\n",
    "    source_dir= train_dir,\n",
    "    target_dir= new_train_dir\n",
    ")\n",
    "organizer.organize_images()"
   ]
  },
  {
   "cell_type": "code",
   "execution_count": 8,
   "metadata": {},
   "outputs": [],
   "source": [
    "# Split 2 RGB : Test dataset\n",
    "organizer = BinaryImageOrganizer(\n",
    "    source_dir= test_dir,\n",
    "    target_dir= new_test_dir\n",
    ")\n",
    "organizer.organize_images()"
   ]
  },
  {
   "cell_type": "code",
   "execution_count": 9,
   "metadata": {},
   "outputs": [],
   "source": [
    "import torch\n",
    "import torchvision\n",
    "from torchvision.datasets import ImageFolder\n",
    "\n",
    "train_dataset = ImageFolder(root=new_train_dir)\n",
    "val_dataset = ImageFolder(root=new_val_dir)\n",
    "test_dataset = ImageFolder(root=new_test_dir)"
   ]
  },
  {
   "cell_type": "code",
   "execution_count": 10,
   "metadata": {},
   "outputs": [
    {
     "name": "stdout",
     "output_type": "stream",
     "text": [
      "The length of the Train dataset split_2 KIR is: 299647\n",
      "The length of the Validation dataset split_2 KIR is: 61803\n",
      "The length of the Test dataset split_2 KIR is: 99467\n"
     ]
    }
   ],
   "source": [
    "print(f\"The length of the Train dataset split_2 KIR is: {len(train_dataset)}\")\n",
    "print(f\"The length of the Validation dataset split_2 KIR is: {len(val_dataset)}\")\n",
    "print(f\"The length of the Test dataset split_2 KIR is: {len(test_dataset)}\")"
   ]
  },
  {
   "cell_type": "code",
   "execution_count": 62,
   "metadata": {},
   "outputs": [
    {
     "data": {
      "text/plain": [
       "['_non_distracted', 'distracted']"
      ]
     },
     "execution_count": 62,
     "metadata": {},
     "output_type": "execute_result"
    }
   ],
   "source": [
    "train_dataset.classes"
   ]
  },
  {
   "cell_type": "code",
   "execution_count": 63,
   "metadata": {},
   "outputs": [
    {
     "data": {
      "text/plain": [
       "{'_non_distracted': 0, 'distracted': 1}"
      ]
     },
     "execution_count": 63,
     "metadata": {},
     "output_type": "execute_result"
    }
   ],
   "source": [
    "train_dataset.class_to_idx"
   ]
  },
  {
   "cell_type": "code",
   "execution_count": null,
   "metadata": {},
   "outputs": [],
   "source": []
  }
 ],
 "metadata": {
  "kernelspec": {
   "display_name": "vi_trans",
   "language": "python",
   "name": "python3"
  },
  "language_info": {
   "codemirror_mode": {
    "name": "ipython",
    "version": 3
   },
   "file_extension": ".py",
   "mimetype": "text/x-python",
   "name": "python",
   "nbconvert_exporter": "python",
   "pygments_lexer": "ipython3",
   "version": "3.10.12"
  }
 },
 "nbformat": 4,
 "nbformat_minor": 2
}
