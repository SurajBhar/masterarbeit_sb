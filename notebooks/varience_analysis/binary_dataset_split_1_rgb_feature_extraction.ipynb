{
 "cells": [
  {
   "cell_type": "code",
   "execution_count": null,
   "metadata": {},
   "outputs": [],
   "source": [
    "import os\n",
    "import torch\n",
    "import timm\n",
    "import numpy as np\n",
    "from PIL import Image\n",
    "from torch.utils.data import Dataset\n",
    "from tqdm import tqdm\n",
    "\n",
    "# Define the path to your dataset\n",
    "dataset_root = \"/net/polaris/storage/deeplearning/sur_data/binary_rgb_daa/split_1/train\"\n",
    "\n",
    "# Define the device for computation (GPU if available, otherwise CPU)\n",
    "device = torch.device(\"cuda:1\" if torch.cuda.is_available() else \"cpu\")\n",
    "\n",
    "# Load the pretrained ViT model\n",
    "model = timm.create_model(\n",
    "    'vit_huge_patch14_224.orig_in21k',\n",
    "    pretrained=True,\n",
    "    num_classes=0,  # Remove classifier nn.Linear\n",
    ")\n",
    "model = model.eval()\n",
    "model = model.to(device)\n",
    "\n",
    "# Create data transforms\n",
    "data_config = timm.data.resolve_model_data_config(model)\n",
    "data_transforms = timm.data.create_transform(**data_config, is_training=False)"
   ]
  },
  {
   "cell_type": "code",
   "execution_count": null,
   "metadata": {},
   "outputs": [],
   "source": [
    "from torchvision.datasets import ImageFolder\n",
    "from torch.utils.data import DataLoader\n",
    "# Set up DataLoader\n",
    "dataset = ImageFolder(root=dataset_root, transform=data_transforms)\n",
    "dataloader = DataLoader(dataset, batch_size=1024, shuffle=False)"
   ]
  },
  {
   "cell_type": "code",
   "execution_count": null,
   "metadata": {},
   "outputs": [],
   "source": [
    "import pickle\n",
    "# Initialize feature storage with numpy arrays for concatenation\n",
    "features_by_class = {0: np.empty((0, 1280), dtype=float),  # feature size\n",
    "                     1: np.empty((0, 1280), dtype=float)}\n",
    "\n",
    "# Extract features\n",
    "with torch.no_grad():\n",
    "    for inputs, labels in tqdm(dataloader):\n",
    "        inputs = inputs.to(device)\n",
    "        features = model(inputs)\n",
    "        features = features.cpu().numpy()  # Convert to NumPy after moving to CPU\n",
    "        labels = labels.cpu().numpy()\n",
    "\n",
    "        # Efficiently concatenate features by class\n",
    "        for class_index in features_by_class.keys():\n",
    "            class_features = features[labels == class_index]\n",
    "            features_by_class[class_index] = np.concatenate((features_by_class[class_index], class_features))\n",
    "\n",
    "# Save the features to a pickle file\n",
    "with open('/home/sur06423/hiwi/vit_exp/vision_tranformer_baseline/notebooks/varience_analysis/Features_binary_split_0_kinect_rgb/features_by_class_split_1_rgb.pickle', 'wb') as handle:\n",
    "    pickle.dump(features_by_class, handle, protocol=pickle.HIGHEST_PROTOCOL)\n",
    "\n",
    "print(\"Features saved successfully.\")"
   ]
  }
 ],
 "metadata": {
  "language_info": {
   "name": "python"
  }
 },
 "nbformat": 4,
 "nbformat_minor": 2
}
