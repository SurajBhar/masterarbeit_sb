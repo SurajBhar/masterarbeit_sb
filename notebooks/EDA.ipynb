{
 "cells": [
  {
   "attachments": {},
   "cell_type": "markdown",
   "metadata": {},
   "source": [
    "# Exploratory Data Analysis on Drive and Act Dataset:\n",
    "*  Check the Resolution of the videos\n",
    "*  Check the Frame rate of the videos\n",
    "*  Total number of Frames\n",
    "*  Height and Width of the video\n",
    "*  Pulling in Images from Video\n"
   ]
  },
  {
   "cell_type": "code",
   "execution_count": 2,
   "metadata": {},
   "outputs": [
    {
     "name": "stdout",
     "output_type": "stream",
     "text": [
      "Thu Aug 10 11:50:59 2023       \n",
      "+-----------------------------------------------------------------------------+\n",
      "| NVIDIA-SMI 525.105.17   Driver Version: 525.105.17   CUDA Version: 12.0     |\n",
      "|-------------------------------+----------------------+----------------------+\n",
      "| GPU  Name        Persistence-M| Bus-Id        Disp.A | Volatile Uncorr. ECC |\n",
      "| Fan  Temp  Perf  Pwr:Usage/Cap|         Memory-Usage | GPU-Util  Compute M. |\n",
      "|                               |                      |               MIG M. |\n",
      "|===============================+======================+======================|\n",
      "|   0  Tesla V100-SXM2...  Off  | 00000000:06:00.0 Off |                    0 |\n",
      "| N/A   33C    P0    43W / 300W |      3MiB / 32768MiB |      0%      Default |\n",
      "|                               |                      |                  N/A |\n",
      "+-------------------------------+----------------------+----------------------+\n",
      "|   1  Tesla V100-SXM2...  Off  | 00000000:07:00.0 Off |                    0 |\n",
      "| N/A   38C    P0    56W / 300W |  16143MiB / 32768MiB |      0%      Default |\n",
      "|                               |                      |                  N/A |\n",
      "+-------------------------------+----------------------+----------------------+\n",
      "|   2  Tesla V100-SXM2...  Off  | 00000000:0A:00.0 Off |                    0 |\n",
      "| N/A   38C    P0    59W / 300W |    999MiB / 32768MiB |      0%      Default |\n",
      "|                               |                      |                  N/A |\n",
      "+-------------------------------+----------------------+----------------------+\n",
      "|   3  Tesla V100-SXM2...  Off  | 00000000:0B:00.0 Off |                    0 |\n",
      "| N/A   34C    P0    47W / 300W |      3MiB / 32768MiB |      0%      Default |\n",
      "|                               |                      |                  N/A |\n",
      "+-------------------------------+----------------------+----------------------+\n",
      "|   4  Tesla V100-SXM2...  Off  | 00000000:85:00.0 Off |                    0 |\n",
      "| N/A   35C    P0    41W / 300W |      3MiB / 32768MiB |      0%      Default |\n",
      "|                               |                      |                  N/A |\n",
      "+-------------------------------+----------------------+----------------------+\n",
      "|   5  Tesla V100-SXM2...  Off  | 00000000:86:00.0 Off |                    0 |\n",
      "| N/A   35C    P0    42W / 300W |      3MiB / 32768MiB |      0%      Default |\n",
      "|                               |                      |                  N/A |\n",
      "+-------------------------------+----------------------+----------------------+\n",
      "|   6  Tesla V100-SXM2...  Off  | 00000000:89:00.0 Off |                    0 |\n",
      "| N/A   36C    P0    42W / 300W |      7MiB / 32768MiB |      0%      Default |\n",
      "|                               |                      |                  N/A |\n",
      "+-------------------------------+----------------------+----------------------+\n",
      "|   7  Tesla V100-SXM2...  Off  | 00000000:8A:00.0 Off |                    0 |\n",
      "| N/A   35C    P0    43W / 300W |      5MiB / 32768MiB |      0%      Default |\n",
      "|                               |                      |                  N/A |\n",
      "+-------------------------------+----------------------+----------------------+\n",
      "                                                                               \n",
      "+-----------------------------------------------------------------------------+\n",
      "| Processes:                                                                  |\n",
      "|  GPU   GI   CI        PID   Type   Process name                  GPU Memory |\n",
      "|        ID   ID                                                   Usage      |\n",
      "|=============================================================================|\n",
      "+-----------------------------------------------------------------------------+\n"
     ]
    }
   ],
   "source": [
    "!nvidia-smi"
   ]
  },
  {
   "cell_type": "code",
   "execution_count": 3,
   "metadata": {},
   "outputs": [
    {
     "name": "stderr",
     "output_type": "stream",
     "text": [
      "/home/sur06423/miniconda3/envs/vi_trans/lib/python3.10/site-packages/tqdm/auto.py:21: TqdmWarning: IProgress not found. Please update jupyter and ipywidgets. See https://ipywidgets.readthedocs.io/en/stable/user_install.html\n",
      "  from .autonotebook import tqdm as notebook_tqdm\n"
     ]
    },
    {
     "name": "stdout",
     "output_type": "stream",
     "text": [
      "GPU device: Tesla V100-SXM2-32GB\n"
     ]
    }
   ],
   "source": [
    "import torch\n",
    "\n",
    "if torch.cuda.is_available():\n",
    "    device = torch.device('cuda')\n",
    "    print('GPU device:',torch.cuda.get_device_name(0))\n",
    "else:\n",
    "    device = torch.device('cpu')\n",
    "    print('No GPU avaialable, Using CPU')\n",
    "\n",
    "torch.cuda.set_device(0)"
   ]
  },
  {
   "cell_type": "code",
   "execution_count": 4,
   "metadata": {},
   "outputs": [
    {
     "data": {
      "text/plain": [
       "'/home/sur06423/hiwi/vit_exp/vision_tranformer_baseline/notebooks'"
      ]
     },
     "execution_count": 4,
     "metadata": {},
     "output_type": "execute_result"
    }
   ],
   "source": [
    "pwd"
   ]
  },
  {
   "cell_type": "code",
   "execution_count": 5,
   "metadata": {},
   "outputs": [],
   "source": [
    "input_file_path = '/home/sur06423/hiwi/vit_exp/vision_tranformer_baseline/data/kinect_color/kinect_color/vp1/run1b_2018-05-29-14-02-47.kinect_color.mp4'"
   ]
  },
  {
   "attachments": {},
   "cell_type": "markdown",
   "metadata": {},
   "source": [
    "# Resolution of the video\n",
    "\n",
    "* \"Resolution: {width}x{height}\" : 960x540\n",
    "* \"Frame Rate: {frame_rate} FPS\" : 15 FPS"
   ]
  },
  {
   "cell_type": "code",
   "execution_count": 6,
   "metadata": {},
   "outputs": [
    {
     "name": "stdout",
     "output_type": "stream",
     "text": [
      "Resolution: 960x540\n",
      "Frame Rate: 15 FPS\n",
      "Total Frames: 19072\n"
     ]
    }
   ],
   "source": [
    "import cv2\n",
    "\n",
    "# Path to the video file\n",
    "video_path = \"/home/sur06423/hiwi/vit_exp/vision_tranformer_baseline/data/kinect_color/kinect_color/vp1/run1b_2018-05-29-14-02-47.kinect_color.mp4\"\n",
    "\n",
    "# Open the video file\n",
    "cap = cv2.VideoCapture(video_path)\n",
    "\n",
    "# Check if the video file was opened successfully\n",
    "if not cap.isOpened():\n",
    "    print(\"Error: Could not open video file\")\n",
    "else:\n",
    "    # Get video resolution and frame rate\n",
    "    width = int(cap.get(cv2.CAP_PROP_FRAME_WIDTH))\n",
    "    height = int(cap.get(cv2.CAP_PROP_FRAME_HEIGHT))\n",
    "    frame_rate = int(cap.get(cv2.CAP_PROP_FPS))\n",
    "    total_frames = int(cap.get(cv2.CAP_PROP_FRAME_COUNT))\n",
    "\n",
    "    print(f\"Resolution: {width}x{height}\")\n",
    "    print(f\"Frame Rate: {frame_rate} FPS\")\n",
    "    print(f\"Total Frames: {total_frames}\")\n",
    "\n",
    "    # Release the video capture object and close the display window\n",
    "    cap.release()\n",
    "    cv2.destroyAllWindows()\n"
   ]
  },
  {
   "cell_type": "code",
   "execution_count": 9,
   "metadata": {},
   "outputs": [
    {
     "name": "stdout",
     "output_type": "stream",
     "text": [
      "No error annotations found.\n"
     ]
    }
   ],
   "source": [
    "import csv\n",
    "\n",
    "def check_annotation_errors(annotation_file_path):\n",
    "    annotations = []\n",
    "    error_annotations = []\n",
    "\n",
    "    with open(annotation_file_path, 'r') as csv_file:\n",
    "        csv_reader = csv.reader(csv_file)\n",
    "        header = next(csv_reader)  # Skip the header\n",
    "        \n",
    "        for row in csv_reader:\n",
    "            participant_id, file_id, annotation_id, frame_start, frame_end, activity, chunk_id = row\n",
    "            \n",
    "            existing_annotations = [\n",
    "                anno for anno in annotations\n",
    "                if (\n",
    "                    anno['annotation_id'] == annotation_id and\n",
    "                    anno['chunk_id'] == chunk_id and\n",
    "                    anno['activity'] == activity and\n",
    "                    anno['participant_id'] == participant_id and\n",
    "                    anno['file_id'] == file_id\n",
    "                )\n",
    "            ]\n",
    "            \n",
    "            if existing_annotations:\n",
    "                error_annotations.extend(existing_annotations)\n",
    "                error_annotations.append({\n",
    "                    'participant_id': participant_id,\n",
    "                    'file_id': file_id,\n",
    "                    'annotation_id': annotation_id,\n",
    "                    'frame_start': frame_start,\n",
    "                    'frame_end': frame_end,\n",
    "                    'activity': activity,\n",
    "                    'chunk_id': chunk_id\n",
    "                })\n",
    "            else:\n",
    "                annotations.append({\n",
    "                    'participant_id': participant_id,\n",
    "                    'file_id': file_id,\n",
    "                    'annotation_id': annotation_id,\n",
    "                    'frame_start': frame_start,\n",
    "                    'frame_end': frame_end,\n",
    "                    'activity': activity,\n",
    "                    'chunk_id': chunk_id,\n",
    "                })\n",
    "\n",
    "    if error_annotations:\n",
    "        error_filename = 'error_annotation_3.csv'\n",
    "        with open(error_filename, 'w', newline='') as error_file:\n",
    "            error_writer = csv.writer(error_file)\n",
    "            error_writer.writerow(header)\n",
    "            for error_row in error_annotations:\n",
    "                error_writer.writerow([\n",
    "                    error_row['participant_id'],\n",
    "                    error_row['file_id'],\n",
    "                    error_row['annotation_id'],\n",
    "                    error_row['frame_start'],\n",
    "                    error_row['frame_end'],\n",
    "                    error_row['activity'],\n",
    "                    error_row['chunk_id']\n",
    "                ])\n",
    "        print(f'Error annotations written to {error_filename}')\n",
    "    else:\n",
    "        print('No error annotations found.')\n",
    "\n",
    "# Provide the path to the annotation CSV file\n",
    "annotation_file_path = '/home/sur06423/hiwi/vit_exp/vision_tranformer_baseline/data/kinect_color_annotation/activities_3s/kinect_color/midlevel.chunks_90.split_0.val.csv'\n",
    "check_annotation_errors(annotation_file_path)\n"
   ]
  },
  {
   "cell_type": "code",
   "execution_count": null,
   "metadata": {},
   "outputs": [],
   "source": []
  },
  {
   "cell_type": "code",
   "execution_count": null,
   "metadata": {},
   "outputs": [],
   "source": []
  },
  {
   "cell_type": "code",
   "execution_count": null,
   "metadata": {},
   "outputs": [],
   "source": []
  }
 ],
 "metadata": {
  "kernelspec": {
   "display_name": "Python 3",
   "language": "python",
   "name": "python3"
  },
  "language_info": {
   "codemirror_mode": {
    "name": "ipython",
    "version": 3
   },
   "file_extension": ".py",
   "mimetype": "text/x-python",
   "name": "python",
   "nbconvert_exporter": "python",
   "pygments_lexer": "ipython3",
   "version": "3.10.12"
  },
  "orig_nbformat": 4
 },
 "nbformat": 4,
 "nbformat_minor": 2
}
