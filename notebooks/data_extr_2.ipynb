{
 "cells": [
  {
   "cell_type": "code",
   "execution_count": 1,
   "metadata": {},
   "outputs": [
    {
     "name": "stdout",
     "output_type": "stream",
     "text": [
      "Tue Jan 23 10:45:14 2024       \n",
      "+---------------------------------------------------------------------------------------+\n",
      "| NVIDIA-SMI 535.113.01             Driver Version: 535.113.01   CUDA Version: 12.2     |\n",
      "|-----------------------------------------+----------------------+----------------------+\n",
      "| GPU  Name                 Persistence-M | Bus-Id        Disp.A | Volatile Uncorr. ECC |\n",
      "| Fan  Temp   Perf          Pwr:Usage/Cap |         Memory-Usage | GPU-Util  Compute M. |\n",
      "|                                         |                      |               MIG M. |\n",
      "|=========================================+======================+======================|\n",
      "|   0  Tesla V100-SXM2-32GB           Off | 00000000:06:00.0 Off |                    0 |\n",
      "| N/A   40C    P0              70W / 300W |   4093MiB / 32768MiB |      0%      Default |\n",
      "|                                         |                      |                  N/A |\n",
      "+-----------------------------------------+----------------------+----------------------+\n",
      "|   1  Tesla V100-SXM2-32GB           Off | 00000000:07:00.0 Off |                    0 |\n",
      "| N/A   42C    P0              71W / 300W |   4121MiB / 32768MiB |      0%      Default |\n",
      "|                                         |                      |                  N/A |\n",
      "+-----------------------------------------+----------------------+----------------------+\n",
      "|   2  Tesla V100-SXM2-32GB           Off | 00000000:0A:00.0 Off |                    0 |\n",
      "| N/A   40C    P0              46W / 300W |      3MiB / 32768MiB |      0%      Default |\n",
      "|                                         |                      |                  N/A |\n",
      "+-----------------------------------------+----------------------+----------------------+\n",
      "|   3  Tesla V100-SXM2-32GB           Off | 00000000:0B:00.0 Off |                    0 |\n",
      "| N/A   59C    P0             323W / 300W |  12591MiB / 32768MiB |     98%      Default |\n",
      "|                                         |                      |                  N/A |\n",
      "+-----------------------------------------+----------------------+----------------------+\n",
      "|   4  Tesla V100-SXM2-32GB           Off | 00000000:85:00.0 Off |                    0 |\n",
      "| N/A   36C    P0              56W / 300W |  16483MiB / 32768MiB |      0%      Default |\n",
      "|                                         |                      |                  N/A |\n",
      "+-----------------------------------------+----------------------+----------------------+\n",
      "|   5  Tesla V100-SXM2-32GB           Off | 00000000:86:00.0 Off |                    0 |\n",
      "| N/A   38C    P0              56W / 300W |  16475MiB / 32768MiB |      0%      Default |\n",
      "|                                         |                      |                  N/A |\n",
      "+-----------------------------------------+----------------------+----------------------+\n",
      "|   6  Tesla V100-SXM2-32GB           Off | 00000000:89:00.0 Off |                    0 |\n",
      "| N/A   44C    P0              59W / 300W |  16473MiB / 32768MiB |      0%      Default |\n",
      "|                                         |                      |                  N/A |\n",
      "+-----------------------------------------+----------------------+----------------------+\n",
      "|   7  Tesla V100-SXM2-32GB           Off | 00000000:8A:00.0 Off |                    0 |\n",
      "| N/A   55C    P0             229W / 300W |   6789MiB / 32768MiB |     96%      Default |\n",
      "|                                         |                      |                  N/A |\n",
      "+-----------------------------------------+----------------------+----------------------+\n",
      "                                                                                         \n",
      "+---------------------------------------------------------------------------------------+\n",
      "| Processes:                                                                            |\n",
      "|  GPU   GI   CI        PID   Type   Process name                            GPU Memory |\n",
      "|        ID   ID                                                             Usage      |\n",
      "|=======================================================================================|\n",
      "|    0   N/A  N/A    860665      C   python                                     4090MiB |\n",
      "|    1   N/A  N/A    860665      C   python                                     4118MiB |\n",
      "|    3   N/A  N/A    717041      C   python                                    12586MiB |\n",
      "|    4   N/A  N/A   1463431      C   python                                    16434MiB |\n",
      "|    5   N/A  N/A   1468605      C   python                                    16432MiB |\n",
      "|    6   N/A  N/A   1470831      C   python                                    16432MiB |\n",
      "|    7   N/A  N/A    982809      C   python                                     6782MiB |\n",
      "+---------------------------------------------------------------------------------------+\n"
     ]
    }
   ],
   "source": [
    "!nvidia-smi"
   ]
  },
  {
   "cell_type": "code",
   "execution_count": 4,
   "metadata": {},
   "outputs": [],
   "source": [
    "import os\n",
    "import getpass\n",
    "import sys\n",
    "\n",
    "def setup_ccname():\n",
    "    user=getpass.getuser()\n",
    "    # check if k5start is running, exit otherwise\n",
    "    try:\n",
    "        pid=open(\"/tmp/k5pid_\"+user).read().strip()\n",
    "        os.kill(int(pid), 0)\n",
    "    except:\n",
    "        sys.stderr.write(\"Unable to setup KRB5CCNAME!\\nk5start not running!\\n\")\n",
    "        sys.exit(1)\n",
    "    try:\n",
    "        ccname=open(\"/tmp/kccache_\"+user).read().split(\"=\")[1].strip()\n",
    "        os.environ['KRB5CCNAME']=ccname\n",
    "    except:\n",
    "        sys.stderr.write(\"Unable to setup KRB5CCNAME!\\nmaybe k5start not running?\\n\")\n",
    "        sys.exit(1)\n",
    "\n",
    "def main():\n",
    "    print(\"add your stuff here\")\n",
    "\n",
    "setup_ccname()"
   ]
  },
  {
   "cell_type": "code",
   "execution_count": 3,
   "metadata": {},
   "outputs": [
    {
     "name": "stdout",
     "output_type": "stream",
     "text": [
      "80\n"
     ]
    }
   ],
   "source": [
    "NUM_WORKERS = os.cpu_count()\n",
    "print(NUM_WORKERS)"
   ]
  },
  {
   "cell_type": "code",
   "execution_count": 5,
   "metadata": {},
   "outputs": [
    {
     "name": "stdout",
     "output_type": "stream",
     "text": [
      "sur06423\n"
     ]
    }
   ],
   "source": [
    "user=getpass.getuser()\n",
    "print(user)"
   ]
  },
  {
   "cell_type": "code",
   "execution_count": 6,
   "metadata": {},
   "outputs": [
    {
     "name": "stdout",
     "output_type": "stream",
     "text": [
      "2056340\n"
     ]
    }
   ],
   "source": [
    "pid=open(\"/tmp/k5pid_\"+user).read().strip()\n",
    "print(pid)"
   ]
  },
  {
   "cell_type": "code",
   "execution_count": 8,
   "metadata": {},
   "outputs": [],
   "source": [
    "os.kill(int(pid), 0)"
   ]
  },
  {
   "cell_type": "code",
   "execution_count": 9,
   "metadata": {},
   "outputs": [
    {
     "name": "stdout",
     "output_type": "stream",
     "text": [
      "2056340\n"
     ]
    }
   ],
   "source": [
    "print(pid)"
   ]
  },
  {
   "cell_type": "code",
   "execution_count": 7,
   "metadata": {},
   "outputs": [
    {
     "name": "stdout",
     "output_type": "stream",
     "text": [
      "export KRB5CCNAME=FILE:/tmp/krb5cc_35147_t0oVKX\n",
      "\n"
     ]
    }
   ],
   "source": [
    "ccname=open(\"/tmp/kccache_\"+user).read()\n",
    "print(ccname)"
   ]
  },
  {
   "cell_type": "code",
   "execution_count": 8,
   "metadata": {},
   "outputs": [
    {
     "name": "stdout",
     "output_type": "stream",
     "text": [
      "FILE:/tmp/krb5cc_35147_t0oVKX\n"
     ]
    }
   ],
   "source": [
    "ccname=open(\"/tmp/kccache_\"+user).read().split(\"=\")[1].strip()\n",
    "print(ccname)"
   ]
  },
  {
   "cell_type": "code",
   "execution_count": 12,
   "metadata": {},
   "outputs": [
    {
     "name": "stdout",
     "output_type": "stream",
     "text": [
      "FILE:/tmp/krb5cc_35147_t0oVKX\n"
     ]
    }
   ],
   "source": [
    "ccname=open(\"/tmp/kccache_\"+user).read().split(\"=\")[1].strip()\n",
    "print(ccname)"
   ]
  },
  {
   "attachments": {},
   "cell_type": "markdown",
   "metadata": {},
   "source": [
    "# Code is below"
   ]
  },
  {
   "cell_type": "code",
   "execution_count": 2,
   "metadata": {},
   "outputs": [
    {
     "name": "stderr",
     "output_type": "stream",
     "text": [
      "/home/sur06423/miniconda3/envs/vi_trans/lib/python3.10/site-packages/tqdm/auto.py:21: TqdmWarning: IProgress not found. Please update jupyter and ipywidgets. See https://ipywidgets.readthedocs.io/en/stable/user_install.html\n",
      "  from .autonotebook import tqdm as notebook_tqdm\n"
     ]
    },
    {
     "name": "stdout",
     "output_type": "stream",
     "text": [
      "GPU device: Tesla V100-SXM2-32GB\n"
     ]
    }
   ],
   "source": [
    "import torch\n",
    "\n",
    "if torch.cuda.is_available():\n",
    "    device = torch.device('cuda')\n",
    "    print('GPU device:',torch.cuda.get_device_name(0))\n",
    "else:\n",
    "    device = torch.device('cpu')\n",
    "    print('No GPU avaialable, Using CPU')\n",
    "\n",
    "torch.cuda.set_device(5)"
   ]
  },
  {
   "cell_type": "code",
   "execution_count": 2,
   "metadata": {},
   "outputs": [],
   "source": [
    "import time\n",
    "\n",
    "def format_time(seconds):\n",
    "    \"\"\"Converts time in seconds to hours, minutes, and seconds format.\"\"\"\n",
    "    hours = seconds // 3600\n",
    "    minutes = (seconds % 3600) // 60\n",
    "    seconds = seconds % 60\n",
    "    return f\"{int(hours)} hours, {int(minutes)} minutes, {int(seconds)} seconds\"\n"
   ]
  },
  {
   "cell_type": "code",
   "execution_count": 3,
   "metadata": {},
   "outputs": [
    {
     "name": "stdout",
     "output_type": "stream",
     "text": [
      "Time taken for extracting all frames of split_2: 15130.703706264496 seconds\n",
      "Time taken for extracting all frames: 4 hours, 12 minutes, 10 seconds\n"
     ]
    }
   ],
   "source": [
    "import os\n",
    "import cv2\n",
    "import csv\n",
    "import time\n",
    "\n",
    "class FrameExtractor:\n",
    "    def __init__(self, data_dir, output_dir):\n",
    "        self.data_dir = data_dir\n",
    "        self.output_dir = output_dir\n",
    "\n",
    "    def extract_frames(self, row, max_frames_per_chunk):\n",
    "        participant_id, file_id, annotation_id, frame_start, frame_end, activity, chunk_id = row\n",
    "        video_filepath = os.path.join(self.data_dir, file_id + '.mp4')\n",
    "        new_file_id = file_id.replace(\"/\", \"_\")\n",
    "        updated_output_dir = os.path.join(self.output_dir, f'{activity}', f'{participant_id}_{new_file_id}_frames_{frame_start}_{frame_end}_ann_{annotation_id}_chunk_{chunk_id}')\n",
    "        \n",
    "        os.makedirs(updated_output_dir, exist_ok=True)\n",
    "        cap = cv2.VideoCapture(video_filepath)\n",
    "        frame_count = 0\n",
    "         \n",
    "        try:\n",
    "            # Set the starting frame position\n",
    "            cap.set(cv2.CAP_PROP_POS_FRAMES, int(frame_start))\n",
    "            \n",
    "            for frame_num in range(int(frame_start), int(frame_end) + 1):\n",
    "                ret, frame = cap.read()\n",
    "                if not ret:\n",
    "                    print(f\"Frame number {frame_num} is missing.\")\n",
    "                    break\n",
    "                #new_file_id = file_id.replace(\"/\", \"_\")\n",
    "                output_filename = f'img_{frame_num:06d}.png'\n",
    "                output_path = os.path.join(updated_output_dir, output_filename)\n",
    "                cv2.imwrite(output_path, frame)\n",
    "                frame_count += 1\n",
    "                \n",
    "                if frame_count > max_frames_per_chunk:\n",
    "                    break\n",
    "        finally:\n",
    "            cap.release()\n",
    "\n",
    "def process_annotations(annotation_file, data_dir, root_dataset_dir, dataset_sub_dir, max_frames_per_chunk=48):\n",
    "    with open(annotation_file, 'r') as csvfile:\n",
    "        reader = csv.reader(csvfile)\n",
    "        next(reader)  # Skip header row\n",
    "        output_dir = os.path.join(root_dataset_dir, dataset_sub_dir)\n",
    "        frame_extractor = FrameExtractor(data_dir, output_dir)\n",
    "        \n",
    "        for row in reader:\n",
    "            frame_extractor.extract_frames(row, max_frames_per_chunk)\n",
    "\n",
    "# First : Train : Split_1, \n",
    "def main():\n",
    "    data_dir = \"/home/sur06423/hiwi/vit_exp/vision_tranformer_baseline/data/kinect_color/kinect_color\"\n",
    "    # \"/home/sur06423/hiwi/vit_exp/vision_tranformer_baseline/daa_dataset\"\n",
    "    root_dataset_dir = \"/net/polaris/storage/deeplearning/sur_data/rgb_daa/split_2\"\n",
    "    dataset_sub_dirs = ['train', 'test', 'val']\n",
    "    annotation_files = [\n",
    "        '/home/sur06423/hiwi/vit_exp/vision_tranformer_baseline/data/kinect_color_annotation/activities_3s/kinect_color/midlevel.chunks_90.split_2.train.csv',\n",
    "        '/home/sur06423/hiwi/vit_exp/vision_tranformer_baseline/data/kinect_color_annotation/activities_3s/kinect_color/midlevel.chunks_90.split_2.test.csv',\n",
    "        '/home/sur06423/hiwi/vit_exp/vision_tranformer_baseline/data/kinect_color_annotation/activities_3s/kinect_color/midlevel.chunks_90.split_2.val.csv',\n",
    "    ]\n",
    "\n",
    "    # # Start timing before the loop\n",
    "    start_time = time.time()\n",
    "\n",
    "    for annotation_file, dataset_sub_dir in zip(annotation_files, dataset_sub_dirs):\n",
    "        process_annotations(annotation_file, data_dir, root_dataset_dir, dataset_sub_dir)\n",
    "    \n",
    "    end_time = time.time()  # End timing after the loop\n",
    "    time_taken = end_time - start_time  # Calculating time taken\n",
    "    print(f\"Time taken for extracting all frames of split_2: {time_taken} seconds\")\n",
    "    formatted_time = format_time(time_taken)  # Convert to hours, minutes, seconds format\n",
    "    print(f\"Time taken for extracting all frames: {formatted_time}\")\n",
    "\n",
    "#if __name__ == \"__main__\":\n",
    "#    main()\n",
    "main()\n"
   ]
  },
  {
   "cell_type": "code",
   "execution_count": null,
   "metadata": {},
   "outputs": [],
   "source": []
  },
  {
   "cell_type": "code",
   "execution_count": null,
   "metadata": {},
   "outputs": [],
   "source": []
  }
 ],
 "metadata": {
  "kernelspec": {
   "display_name": "vi_trans",
   "language": "python",
   "name": "python3"
  },
  "language_info": {
   "codemirror_mode": {
    "name": "ipython",
    "version": 3
   },
   "file_extension": ".py",
   "mimetype": "text/x-python",
   "name": "python",
   "nbconvert_exporter": "python",
   "pygments_lexer": "ipython3",
   "version": "3.10.12"
  },
  "orig_nbformat": 4
 },
 "nbformat": 4,
 "nbformat_minor": 2
}
